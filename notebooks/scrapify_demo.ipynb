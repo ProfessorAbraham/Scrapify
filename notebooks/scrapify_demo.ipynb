{
  "cells": [
    {
      "cell_type": "markdown",
      "metadata": {
        "id": "j12YgYtdP9JK"
      },
      "source": [
        "# 🕸️ Scrapify\n",
        "\n",
        "<!-- [![Open In Colab](https://colab.research.google.com/assets/colab-badge.svg)](https://colab.research.google.com/github/YonaniCodes/Scrapify/blob/main/notebooks/scrapify-demo.ipynb) -->\n"
      ]
    },
    {
      "cell_type": "code",
      "execution_count": 7,
      "metadata": {
        "colab": {
          "base_uri": "https://localhost:8080/"
        },
        "id": "WFTPeEs3P9JN",
        "outputId": "482e4344-755e-4904-fc2f-e36487c689d3",
        "vscode": {
          "languageId": "plaintext"
        }
      },
      "outputs": [
        {
          "output_type": "stream",
          "name": "stdout",
          "text": [
            "/content/Scrapify\n",
            "No local changes to save\n",
            "Already up to date.\n"
          ]
        }
      ],
      "source": [
        "import sys\n",
        "import os\n",
        "import re\n",
        "\n",
        "# Check if running in Colab\n",
        "try:\n",
        "    import google.colab\n",
        "    IN_COLAB = True\n",
        "except ImportError:\n",
        "    IN_COLAB = False\n",
        "\n",
        "# Define repo path\n",
        "repo_url = \"https://github.com/YonaniCodes/Scrapify.git\"\n",
        "repo_path = \"/content/Scrapify\"\n",
        "\n",
        "if IN_COLAB:\n",
        "    # Clone the repo only if it doesn't exist\n",
        "    if not os.path.exists(repo_path):\n",
        "        !git clone {repo_url} {repo_path}\n",
        "    else:\n",
        "        # Go into the repo and pull the latest changes\n",
        "        %cd {repo_path}\n",
        "\n",
        "        # Stash local changes if necessary to avoid conflicts with the pull\n",
        "        !git stash\n",
        "        !git pull\n",
        "\n",
        "\n",
        "    # Add src/ to sys.path\n",
        "    sys.path.append(f\"{repo_path}/src\")\n",
        "else:\n",
        "    # Local path config for non-Colab environment\n",
        "    local_src_path = os.path.abspath(\"../src\")\n",
        "    sys.path.append(local_src_path)\n",
        "\n",
        "# Import the scraper function from the module\n",
        "\n",
        "\n",
        "# Call the scrape function (this will print \"Scraping..........\")\n",
        "\n"
      ]
    },
    {
      "cell_type": "code",
      "execution_count": 8,
      "metadata": {
        "colab": {
          "base_uri": "https://localhost:8080/"
        },
        "id": "7mHBeY02j0Qr",
        "outputId": "59d5b74d-283a-4961-9595-f523778dacb2"
      },
      "outputs": [
        {
          "output_type": "stream",
          "name": "stdout",
          "text": [
            "LICENSE  notebooks  README.md  requirements.txt  src\n"
          ]
        }
      ],
      "source": [
        "!ls\n"
      ]
    },
    {
      "cell_type": "code",
      "execution_count": 9,
      "metadata": {
        "colab": {
          "base_uri": "https://localhost:8080/"
        },
        "id": "rqqekac2l0DP",
        "outputId": "056a710a-a0f6-45ec-8cd8-f056aa5104d9"
      },
      "outputs": [
        {
          "output_type": "stream",
          "name": "stdout",
          "text": [
            "Collecting asgiref==3.8.1 (from -r requirements.txt (line 1))\n",
            "  Downloading asgiref-3.8.1-py3-none-any.whl.metadata (9.3 kB)\n",
            "Collecting asttokens==2.4.1 (from -r requirements.txt (line 2))\n",
            "  Downloading asttokens-2.4.1-py2.py3-none-any.whl.metadata (5.2 kB)\n",
            "Collecting blinker==1.8.2 (from -r requirements.txt (line 3))\n",
            "  Downloading blinker-1.8.2-py3-none-any.whl.metadata (1.6 kB)\n",
            "Requirement already satisfied: CacheControl==0.14.2 in /usr/local/lib/python3.11/dist-packages (from -r requirements.txt (line 4)) (0.14.2)\n",
            "Requirement already satisfied: cachetools==5.5.2 in /usr/local/lib/python3.11/dist-packages (from -r requirements.txt (line 5)) (5.5.2)\n",
            "Collecting certifi==2024.8.30 (from -r requirements.txt (line 6))\n",
            "  Downloading certifi-2024.8.30-py3-none-any.whl.metadata (2.2 kB)\n",
            "Requirement already satisfied: cffi==1.17.1 in /usr/local/lib/python3.11/dist-packages (from -r requirements.txt (line 7)) (1.17.1)\n",
            "Requirement already satisfied: charset-normalizer==3.4.1 in /usr/local/lib/python3.11/dist-packages (from -r requirements.txt (line 8)) (3.4.1)\n",
            "Collecting click==8.1.7 (from -r requirements.txt (line 9))\n",
            "  Downloading click-8.1.7-py3-none-any.whl.metadata (3.0 kB)\n",
            "Collecting colorama==0.4.6 (from -r requirements.txt (line 10))\n",
            "  Downloading colorama-0.4.6-py2.py3-none-any.whl.metadata (17 kB)\n",
            "Collecting comm==0.2.2 (from -r requirements.txt (line 11))\n",
            "  Downloading comm-0.2.2-py3-none-any.whl.metadata (3.7 kB)\n",
            "Collecting contourpy==1.2.1 (from -r requirements.txt (line 12))\n",
            "  Downloading contourpy-1.2.1-cp311-cp311-manylinux_2_17_x86_64.manylinux2014_x86_64.whl.metadata (5.8 kB)\n",
            "Collecting cryptography==44.0.2 (from -r requirements.txt (line 13))\n",
            "  Downloading cryptography-44.0.2-cp39-abi3-manylinux_2_34_x86_64.whl.metadata (5.7 kB)\n",
            "Requirement already satisfied: cycler==0.12.1 in /usr/local/lib/python3.11/dist-packages (from -r requirements.txt (line 14)) (0.12.1)\n",
            "Collecting debugpy==1.8.1 (from -r requirements.txt (line 15))\n",
            "  Downloading debugpy-1.8.1-cp311-cp311-manylinux_2_17_x86_64.manylinux2014_x86_64.whl.metadata (1.1 kB)\n",
            "Collecting decorator==5.1.1 (from -r requirements.txt (line 16))\n",
            "  Downloading decorator-5.1.1-py3-none-any.whl.metadata (4.0 kB)\n",
            "Collecting distlib==0.3.9 (from -r requirements.txt (line 17))\n",
            "  Downloading distlib-0.3.9-py2.py3-none-any.whl.metadata (5.2 kB)\n",
            "Collecting Django==5.1.3 (from -r requirements.txt (line 18))\n",
            "  Downloading Django-5.1.3-py3-none-any.whl.metadata (4.2 kB)\n",
            "Collecting executing==2.0.1 (from -r requirements.txt (line 19))\n",
            "  Downloading executing-2.0.1-py2.py3-none-any.whl.metadata (9.0 kB)\n",
            "Collecting filelock==3.16.1 (from -r requirements.txt (line 20))\n",
            "  Downloading filelock-3.16.1-py3-none-any.whl.metadata (2.9 kB)\n",
            "Requirement already satisfied: firebase-admin==6.7.0 in /usr/local/lib/python3.11/dist-packages (from -r requirements.txt (line 21)) (6.7.0)\n",
            "Collecting Flask==3.0.3 (from -r requirements.txt (line 22))\n",
            "  Downloading flask-3.0.3-py3-none-any.whl.metadata (3.2 kB)\n",
            "Collecting fonttools==4.52.4 (from -r requirements.txt (line 23))\n",
            "  Downloading fonttools-4.52.4-cp311-cp311-manylinux_2_17_x86_64.manylinux2014_x86_64.whl.metadata (161 kB)\n",
            "\u001b[2K     \u001b[90m━━━━━━━━━━━━━━━━━━━━━━━━━━━━━━━━━━━━━━\u001b[0m \u001b[32m161.7/161.7 kB\u001b[0m \u001b[31m10.0 MB/s\u001b[0m eta \u001b[36m0:00:00\u001b[0m\n",
            "\u001b[?25hRequirement already satisfied: google-api-core==2.24.2 in /usr/local/lib/python3.11/dist-packages (from -r requirements.txt (line 24)) (2.24.2)\n",
            "Collecting google-api-python-client==2.166.0 (from -r requirements.txt (line 25))\n",
            "  Downloading google_api_python_client-2.166.0-py2.py3-none-any.whl.metadata (6.6 kB)\n",
            "Requirement already satisfied: google-auth==2.38.0 in /usr/local/lib/python3.11/dist-packages (from -r requirements.txt (line 26)) (2.38.0)\n",
            "Requirement already satisfied: google-auth-httplib2==0.2.0 in /usr/local/lib/python3.11/dist-packages (from -r requirements.txt (line 27)) (0.2.0)\n",
            "Requirement already satisfied: google-cloud-core==2.4.3 in /usr/local/lib/python3.11/dist-packages (from -r requirements.txt (line 28)) (2.4.3)\n",
            "Requirement already satisfied: google-cloud-firestore==2.20.1 in /usr/local/lib/python3.11/dist-packages (from -r requirements.txt (line 29)) (2.20.1)\n",
            "Collecting google-cloud-storage==3.1.0 (from -r requirements.txt (line 30))\n",
            "  Downloading google_cloud_storage-3.1.0-py2.py3-none-any.whl.metadata (12 kB)\n",
            "Requirement already satisfied: google-crc32c==1.7.1 in /usr/local/lib/python3.11/dist-packages (from -r requirements.txt (line 31)) (1.7.1)\n",
            "Requirement already satisfied: google-resumable-media==2.7.2 in /usr/local/lib/python3.11/dist-packages (from -r requirements.txt (line 32)) (2.7.2)\n",
            "Requirement already satisfied: googleapis-common-protos==1.69.2 in /usr/local/lib/python3.11/dist-packages (from -r requirements.txt (line 33)) (1.69.2)\n",
            "Requirement already satisfied: grpcio==1.71.0 in /usr/local/lib/python3.11/dist-packages (from -r requirements.txt (line 34)) (1.71.0)\n",
            "Requirement already satisfied: grpcio-status==1.71.0 in /usr/local/lib/python3.11/dist-packages (from -r requirements.txt (line 35)) (1.71.0)\n",
            "Requirement already satisfied: httplib2==0.22.0 in /usr/local/lib/python3.11/dist-packages (from -r requirements.txt (line 36)) (0.22.0)\n",
            "Requirement already satisfied: idna==3.10 in /usr/local/lib/python3.11/dist-packages (from -r requirements.txt (line 37)) (3.10)\n",
            "Collecting ipykernel==6.29.4 (from -r requirements.txt (line 38))\n",
            "  Downloading ipykernel-6.29.4-py3-none-any.whl.metadata (6.3 kB)\n",
            "Collecting ipython==8.24.0 (from -r requirements.txt (line 39))\n",
            "  Downloading ipython-8.24.0-py3-none-any.whl.metadata (4.9 kB)\n",
            "Requirement already satisfied: itsdangerous==2.2.0 in /usr/local/lib/python3.11/dist-packages (from -r requirements.txt (line 40)) (2.2.0)\n",
            "Collecting jedi==0.19.1 (from -r requirements.txt (line 41))\n",
            "  Downloading jedi-0.19.1-py2.py3-none-any.whl.metadata (22 kB)\n",
            "Collecting Jinja2==3.1.4 (from -r requirements.txt (line 42))\n",
            "  Downloading jinja2-3.1.4-py3-none-any.whl.metadata (2.6 kB)\n",
            "Requirement already satisfied: joblib==1.4.2 in /usr/local/lib/python3.11/dist-packages (from -r requirements.txt (line 43)) (1.4.2)\n",
            "Collecting jupyter_client==8.6.2 (from -r requirements.txt (line 44))\n",
            "  Downloading jupyter_client-8.6.2-py3-none-any.whl.metadata (8.3 kB)\n",
            "Requirement already satisfied: jupyter_core==5.7.2 in /usr/local/lib/python3.11/dist-packages (from -r requirements.txt (line 45)) (5.7.2)\n",
            "Collecting kiwisolver==1.4.5 (from -r requirements.txt (line 46))\n",
            "  Downloading kiwisolver-1.4.5-cp311-cp311-manylinux_2_17_x86_64.manylinux2014_x86_64.whl.metadata (6.4 kB)\n",
            "Collecting MarkupSafe==2.1.5 (from -r requirements.txt (line 47))\n",
            "  Downloading MarkupSafe-2.1.5-cp311-cp311-manylinux_2_17_x86_64.manylinux2014_x86_64.whl.metadata (3.0 kB)\n",
            "Collecting matplotlib==3.9.0 (from -r requirements.txt (line 48))\n",
            "  Downloading matplotlib-3.9.0-cp311-cp311-manylinux_2_17_x86_64.manylinux2014_x86_64.whl.metadata (11 kB)\n",
            "Requirement already satisfied: matplotlib-inline==0.1.7 in /usr/local/lib/python3.11/dist-packages (from -r requirements.txt (line 49)) (0.1.7)\n",
            "Requirement already satisfied: msgpack==1.1.0 in /usr/local/lib/python3.11/dist-packages (from -r requirements.txt (line 50)) (1.1.0)\n",
            "Requirement already satisfied: nest-asyncio==1.6.0 in /usr/local/lib/python3.11/dist-packages (from -r requirements.txt (line 51)) (1.6.0)\n",
            "Collecting numpy==1.26.4 (from -r requirements.txt (line 52))\n",
            "  Downloading numpy-1.26.4-cp311-cp311-manylinux_2_17_x86_64.manylinux2014_x86_64.whl.metadata (61 kB)\n",
            "\u001b[2K     \u001b[90m━━━━━━━━━━━━━━━━━━━━━━━━━━━━━━━━━━━━━━━━\u001b[0m \u001b[32m61.0/61.0 kB\u001b[0m \u001b[31m4.6 MB/s\u001b[0m eta \u001b[36m0:00:00\u001b[0m\n",
            "\u001b[?25hCollecting packaging==24.0 (from -r requirements.txt (line 53))\n",
            "  Downloading packaging-24.0-py3-none-any.whl.metadata (3.2 kB)\n",
            "Requirement already satisfied: pandas==2.2.2 in /usr/local/lib/python3.11/dist-packages (from -r requirements.txt (line 54)) (2.2.2)\n",
            "Requirement already satisfied: parso==0.8.4 in /usr/local/lib/python3.11/dist-packages (from -r requirements.txt (line 55)) (0.8.4)\n",
            "Collecting pdf2image==1.17.0 (from -r requirements.txt (line 56))\n",
            "  Downloading pdf2image-1.17.0-py3-none-any.whl.metadata (6.2 kB)\n",
            "Collecting pillow==10.3.0 (from -r requirements.txt (line 57))\n",
            "  Downloading pillow-10.3.0-cp311-cp311-manylinux_2_28_x86_64.whl.metadata (9.2 kB)\n",
            "Collecting pipenv==2024.4.0 (from -r requirements.txt (line 58))\n",
            "  Downloading pipenv-2024.4.0-py3-none-any.whl.metadata (19 kB)\n",
            "Collecting platformdirs==4.2.2 (from -r requirements.txt (line 59))\n",
            "  Downloading platformdirs-4.2.2-py3-none-any.whl.metadata (11 kB)\n",
            "Collecting prompt_toolkit==3.0.45 (from -r requirements.txt (line 60))\n",
            "  Downloading prompt_toolkit-3.0.45-py3-none-any.whl.metadata (6.4 kB)\n",
            "Requirement already satisfied: proto-plus==1.26.1 in /usr/local/lib/python3.11/dist-packages (from -r requirements.txt (line 61)) (1.26.1)\n",
            "Requirement already satisfied: protobuf==5.29.4 in /usr/local/lib/python3.11/dist-packages (from -r requirements.txt (line 62)) (5.29.4)\n",
            "Collecting psutil==5.9.8 (from -r requirements.txt (line 63))\n",
            "  Downloading psutil-5.9.8-cp36-abi3-manylinux_2_12_x86_64.manylinux2010_x86_64.manylinux_2_17_x86_64.manylinux2014_x86_64.whl.metadata (21 kB)\n",
            "Collecting pure-eval==0.2.2 (from -r requirements.txt (line 64))\n",
            "  Downloading pure_eval-0.2.2-py3-none-any.whl.metadata (6.2 kB)\n",
            "Requirement already satisfied: pyasn1==0.6.1 in /usr/local/lib/python3.11/dist-packages (from -r requirements.txt (line 65)) (0.6.1)\n",
            "Requirement already satisfied: pyasn1_modules==0.4.2 in /usr/local/lib/python3.11/dist-packages (from -r requirements.txt (line 66)) (0.4.2)\n",
            "Requirement already satisfied: pycparser==2.22 in /usr/local/lib/python3.11/dist-packages (from -r requirements.txt (line 67)) (2.22)\n",
            "Requirement already satisfied: Pygments==2.18.0 in /usr/local/lib/python3.11/dist-packages (from -r requirements.txt (line 68)) (2.18.0)\n",
            "Requirement already satisfied: PyJWT==2.10.1 in /usr/local/lib/python3.11/dist-packages (from -r requirements.txt (line 69)) (2.10.1)\n",
            "Collecting pyparsing==3.1.2 (from -r requirements.txt (line 70))\n",
            "  Downloading pyparsing-3.1.2-py3-none-any.whl.metadata (5.1 kB)\n",
            "Collecting pytesseract==0.3.13 (from -r requirements.txt (line 71))\n",
            "  Downloading pytesseract-0.3.13-py3-none-any.whl.metadata (11 kB)\n",
            "Collecting python-dateutil==2.9.0.post0 (from -r requirements.txt (line 72))\n",
            "  Downloading python_dateutil-2.9.0.post0-py2.py3-none-any.whl.metadata (8.4 kB)\n",
            "Collecting pytz==2024.1 (from -r requirements.txt (line 73))\n",
            "  Downloading pytz-2024.1-py2.py3-none-any.whl.metadata (22 kB)\n",
            "\u001b[31mERROR: Ignored the following versions that require a different python version: 1.21.2 Requires-Python >=3.7,<3.11; 1.21.3 Requires-Python >=3.7,<3.11; 1.21.4 Requires-Python >=3.7,<3.11; 1.21.5 Requires-Python >=3.7,<3.11; 1.21.6 Requires-Python >=3.7,<3.11\u001b[0m\u001b[31m\n",
            "\u001b[0m\u001b[31mERROR: Could not find a version that satisfies the requirement pywin32==306 (from versions: none)\u001b[0m\u001b[31m\n",
            "\u001b[0m\u001b[31mERROR: No matching distribution found for pywin32==306\u001b[0m\u001b[31m\n",
            "\u001b[0mRequirement already satisfied: langid in /usr/local/lib/python3.11/dist-packages (1.1.6)\n",
            "Requirement already satisfied: numpy in /usr/local/lib/python3.11/dist-packages (from langid) (2.0.2)\n",
            "Requirement already satisfied: PyMuPDF in /usr/local/lib/python3.11/dist-packages (1.25.5)\n"
          ]
        }
      ],
      "source": [
        " !pip install -r requirements.txt\n",
        " !pip install langid\n",
        " !pip install PyMuPDF\n"
      ]
    },
    {
      "cell_type": "code",
      "execution_count": 13,
      "metadata": {
        "colab": {
          "base_uri": "https://localhost:8080/"
        },
        "id": "Mb06iS-9l99j",
        "outputId": "6a4a5253-e471-4135-f327-813a98896a1f"
      },
      "outputs": [
        {
          "output_type": "stream",
          "name": "stdout",
          "text": [
            "Everything is ready you can start working 🎉🎉🎉🎉\n"
          ]
        }
      ],
      "source": [
        "import subprocess\n",
        "\n",
        "# Get output of ls command\n",
        "output = subprocess.check_output(\"ls\", shell=True).decode().splitlines()\n",
        "\n",
        "# Now you can conditionally check\n",
        "if \"firebase-adminsdk.json\" in output:\n",
        "    print(\"Everything is ready you can start working 🎉🎉🎉🎉\")\n",
        "else:\n",
        "    print(\"firebase-adminsdk.json not found.😒😒😒 please ask Yonani for the file\")"
      ]
    },
    {
      "cell_type": "code",
      "execution_count": 14,
      "metadata": {
        "id": "oaUyoeqXm6hX"
      },
      "outputs": [],
      "source": [
        "import sys\n",
        "sys.path.append('/content/Scrapify/src')"
      ]
    },
    {
      "cell_type": "code",
      "source": [
        "from scrapify import scrape\n",
        "\n",
        "from scrapify import get_report"
      ],
      "metadata": {
        "id": "S2FG4Do4UihW"
      },
      "execution_count": 15,
      "outputs": []
    },
    {
      "cell_type": "code",
      "source": [
        "get_report()"
      ],
      "metadata": {
        "id": "p04R4l1fVz9B",
        "outputId": "a6b25697-2c12-4ea8-f46e-ca15c6ac27d0",
        "colab": {
          "base_uri": "https://localhost:8080/"
        }
      },
      "execution_count": 16,
      "outputs": [
        {
          "output_type": "execute_result",
          "data": {
            "text/plain": [
              "([], [])"
            ]
          },
          "metadata": {},
          "execution_count": 16
        }
      ]
    },
    {
      "cell_type": "code",
      "source": [
        "!pip install googlesearch-python"
      ],
      "metadata": {
        "id": "xn35piLXV9CZ",
        "colab": {
          "base_uri": "https://localhost:8080/"
        },
        "outputId": "a2f9fb71-3499-4109-bedd-2cbd9acb2229"
      },
      "execution_count": 17,
      "outputs": [
        {
          "output_type": "stream",
          "name": "stdout",
          "text": [
            "Collecting googlesearch-python\n",
            "  Downloading googlesearch_python-1.3.0-py3-none-any.whl.metadata (3.4 kB)\n",
            "Requirement already satisfied: beautifulsoup4>=4.9 in /usr/local/lib/python3.11/dist-packages (from googlesearch-python) (4.13.3)\n",
            "Requirement already satisfied: requests>=2.20 in /usr/local/lib/python3.11/dist-packages (from googlesearch-python) (2.32.3)\n",
            "Requirement already satisfied: soupsieve>1.2 in /usr/local/lib/python3.11/dist-packages (from beautifulsoup4>=4.9->googlesearch-python) (2.6)\n",
            "Requirement already satisfied: typing-extensions>=4.0.0 in /usr/local/lib/python3.11/dist-packages (from beautifulsoup4>=4.9->googlesearch-python) (4.13.1)\n",
            "Requirement already satisfied: charset-normalizer<4,>=2 in /usr/local/lib/python3.11/dist-packages (from requests>=2.20->googlesearch-python) (3.4.1)\n",
            "Requirement already satisfied: idna<4,>=2.5 in /usr/local/lib/python3.11/dist-packages (from requests>=2.20->googlesearch-python) (3.10)\n",
            "Requirement already satisfied: urllib3<3,>=1.21.1 in /usr/local/lib/python3.11/dist-packages (from requests>=2.20->googlesearch-python) (2.3.0)\n",
            "Requirement already satisfied: certifi>=2017.4.17 in /usr/local/lib/python3.11/dist-packages (from requests>=2.20->googlesearch-python) (2025.1.31)\n",
            "Downloading googlesearch_python-1.3.0-py3-none-any.whl (5.6 kB)\n",
            "Installing collected packages: googlesearch-python\n",
            "Successfully installed googlesearch-python-1.3.0\n"
          ]
        }
      ]
    },
    {
      "cell_type": "code",
      "source": [
        "\n",
        "from googlesearch import search"
      ],
      "metadata": {
        "id": "B0FRmKnAdj1s"
      },
      "execution_count": 18,
      "outputs": []
    },
    {
      "cell_type": "code",
      "source": [
        "def get_links_from_simple_search(query):\n",
        "    urls=list(set(search(query, num_results=20)))\n",
        "    return urls"
      ],
      "metadata": {
        "id": "5MFk1o0VdjyO"
      },
      "execution_count": 19,
      "outputs": []
    },
    {
      "cell_type": "code",
      "source": [
        "simple_query = \"site:gov.et 'law' OR 'legal' OR 'የፍትህ' OR 'የኢትዮጵያ ሕግ' OR 'የፌዴራል ሕጎች' OR 'አዲስ ሕግ' OR 'አዲስ ደንብ'\"\n",
        "urls=get_links_from_simple_search(simple_query)\n"
      ],
      "metadata": {
        "id": "OE6lp4Xmdjvr"
      },
      "execution_count": 20,
      "outputs": []
    },
    {
      "cell_type": "code",
      "source": [
        "scrape(urls,\"Biruk\")"
      ],
      "metadata": {
        "id": "wR9EqlFRmMoz",
        "outputId": "78a28cba-00d2-4ff0-d589-2faca1c8e706",
        "colab": {
          "base_uri": "https://localhost:8080/"
        }
      },
      "execution_count": 21,
      "outputs": [
        {
          "output_type": "stream",
          "name": "stdout",
          "text": [
            "Processing: https://acso.gov.et/wp-content/uploads/2021/06/Federal-Negarit-Gazette-1113.pdf\n"
          ]
        },
        {
          "output_type": "stream",
          "name": "stderr",
          "text": [
            "/usr/local/lib/python3.11/dist-packages/google/cloud/firestore_v1/base_collection.py:303: UserWarning: Detected filter using positional arguments. Prefer using the 'filter' keyword argument instead.\n",
            "  return query.where(field_path, op_string, value)\n"
          ]
        },
        {
          "output_type": "stream",
          "name": "stdout",
          "text": [
            "Saved 1 records to data/extracted_data.jsonl\n",
            "✅ Successfully registered: https://acso.gov.et/wp-content/uploads/2021/06/Federal-Negarit-Gazette-1113.pdf\n",
            "Processing: https://www.e-consultation.gov.et/draft/3\n",
            "✅ Successfully unscraped web registered: https://www.e-consultation.gov.et/draft/3\n",
            "Processing: https://moe.gov.et/storage/Books/Administrative%20procedure%20proclamation%20(1).pdf\n",
            "❌ Error at extraction: HTTPSConnectionPool(host='moe.gov.et', port=443): Max retries exceeded with url: /storage/Books/Administrative%20procedure%20proclamation%20(1).pdf (Caused by ConnectTimeoutError(<urllib3.connection.HTTPSConnection object at 0x7e66398f6890>, 'Connection to moe.gov.et timed out. (connect timeout=10)'))\n",
            "✅ Successfully unscraped web registered: https://moe.gov.et/storage/Books/Administrative%20procedure%20proclamation%20(1).pdf\n",
            "Processing: https://osdao.gov.et/wp-content/uploads/2024/04/Civil-Code-Amharic.pdf\n",
            "❌ Error at extraction: HTTPSConnectionPool(host='osdao.gov.et', port=443): Max retries exceeded with url: /wp-content/uploads/2024/04/Civil-Code-Amharic.pdf (Caused by NameResolutionError(\"<urllib3.connection.HTTPSConnection object at 0x7e66398f5e50>: Failed to resolve 'osdao.gov.et' ([Errno -2] Name or service not known)\"))\n",
            "✅ Successfully unscraped web registered: https://osdao.gov.et/wp-content/uploads/2024/04/Civil-Code-Amharic.pdf\n",
            "Processing: http://www.moa.gov.et/wp-content/uploads/2024/07/Definition-of-Powers-and-Duties-of-the-Executive-Organs-Proclamation.pdf\n",
            "Saved 1 records to data/extracted_data.jsonl\n",
            "✅ Successfully registered: http://www.moa.gov.et/wp-content/uploads/2024/07/Definition-of-Powers-and-Duties-of-the-Executive-Organs-Proclamation.pdf\n",
            "Processing: https://laws.moj.gov.et/\n",
            "Saved 1 records to data/extracted_data.jsonl\n",
            "✅ Successfully registered: https://laws.moj.gov.et/\n",
            "Processing: https://www.moj.gov.et/about/mandate/\n",
            "Saved 1 records to data/extracted_data.jsonl\n",
            "✅ Successfully registered: https://www.moj.gov.et/about/mandate/\n",
            "Processing: http://laws.eag.gov.et/\n",
            "Saved 1 records to data/extracted_data.jsonl\n",
            "✅ Successfully registered: http://laws.eag.gov.et/\n",
            "Processing: https://osdao.gov.et/wp-content/uploads/2024/04/1243_2013_NEW-COMMERCIAL-CODE-OFFICIAL-AMHARIC-VERSION.pdf\n",
            "❌ Error at extraction: HTTPSConnectionPool(host='osdao.gov.et', port=443): Max retries exceeded with url: /wp-content/uploads/2024/04/1243_2013_NEW-COMMERCIAL-CODE-OFFICIAL-AMHARIC-VERSION.pdf (Caused by NameResolutionError(\"<urllib3.connection.HTTPSConnection object at 0x7e662ac2f990>: Failed to resolve 'osdao.gov.et' ([Errno -2] Name or service not known)\"))\n",
            "✅ Successfully unscraped web registered: https://osdao.gov.et/wp-content/uploads/2024/04/1243_2013_NEW-COMMERCIAL-CODE-OFFICIAL-AMHARIC-VERSION.pdf\n",
            "Processing: http://laws.eag.gov.et/Upload/CassationDecisionsDocument/a3bf28be-a8c3-408f-8671-a9adebb3281f.pdf\n",
            "Saved 1 records to data/extracted_data.jsonl\n",
            "✅ Successfully registered: http://laws.eag.gov.et/Upload/CassationDecisionsDocument/a3bf28be-a8c3-408f-8671-a9adebb3281f.pdf\n"
          ]
        }
      ]
    },
    {
      "cell_type": "code",
      "source": [
        "scraped, unscraped=get_report()"
      ],
      "metadata": {
        "id": "aUL37mg6fX7n"
      },
      "execution_count": 22,
      "outputs": []
    },
    {
      "cell_type": "code",
      "source": [],
      "metadata": {
        "id": "HWJr2V5FfXsx"
      },
      "execution_count": null,
      "outputs": []
    },
    {
      "cell_type": "code",
      "source": [
        "import pandas as pd\n",
        "scraped_data= pd.DataFrame(scraped)"
      ],
      "metadata": {
        "id": "uOrzpBCHfXem"
      },
      "execution_count": 23,
      "outputs": []
    },
    {
      "cell_type": "code",
      "source": [],
      "metadata": {
        "id": "_5rgmbddrc-_"
      },
      "execution_count": null,
      "outputs": []
    },
    {
      "cell_type": "code",
      "source": [
        "scraped_data"
      ],
      "metadata": {
        "id": "FkuAgGAxiGfp",
        "outputId": "999b0718-fe15-48cd-a313-e23772933f4f",
        "colab": {
          "base_uri": "https://localhost:8080/",
          "height": 237
        }
      },
      "execution_count": 24,
      "outputs": [
        {
          "output_type": "execute_result",
          "data": {
            "text/plain": [
              "                                                 url scraper  \\\n",
              "0  https://acso.gov.et/wp-content/uploads/2021/06...   Biruk   \n",
              "1  http://laws.eag.gov.et/Upload/CassationDecisio...   Biruk   \n",
              "2                           https://laws.moj.gov.et/   Biruk   \n",
              "3                            http://laws.eag.gov.et/   Biruk   \n",
              "4              https://www.moj.gov.et/about/mandate/   Biruk   \n",
              "5  http://www.moa.gov.et/wp-content/uploads/2024/...   Biruk   \n",
              "\n",
              "                         timestamp  \n",
              "0 2025-04-11 10:32:02.433000+00:00  \n",
              "1 2025-04-11 10:32:45.336000+00:00  \n",
              "2 2025-04-11 10:32:27.774000+00:00  \n",
              "3 2025-04-11 10:32:37.518000+00:00  \n",
              "4 2025-04-11 10:32:32.386000+00:00  \n",
              "5 2025-04-11 10:32:25.517000+00:00  "
            ],
            "text/html": [
              "\n",
              "  <div id=\"df-29a19440-e94e-4264-b071-2564feb2ddf6\" class=\"colab-df-container\">\n",
              "    <div>\n",
              "<style scoped>\n",
              "    .dataframe tbody tr th:only-of-type {\n",
              "        vertical-align: middle;\n",
              "    }\n",
              "\n",
              "    .dataframe tbody tr th {\n",
              "        vertical-align: top;\n",
              "    }\n",
              "\n",
              "    .dataframe thead th {\n",
              "        text-align: right;\n",
              "    }\n",
              "</style>\n",
              "<table border=\"1\" class=\"dataframe\">\n",
              "  <thead>\n",
              "    <tr style=\"text-align: right;\">\n",
              "      <th></th>\n",
              "      <th>url</th>\n",
              "      <th>scraper</th>\n",
              "      <th>timestamp</th>\n",
              "    </tr>\n",
              "  </thead>\n",
              "  <tbody>\n",
              "    <tr>\n",
              "      <th>0</th>\n",
              "      <td>https://acso.gov.et/wp-content/uploads/2021/06...</td>\n",
              "      <td>Biruk</td>\n",
              "      <td>2025-04-11 10:32:02.433000+00:00</td>\n",
              "    </tr>\n",
              "    <tr>\n",
              "      <th>1</th>\n",
              "      <td>http://laws.eag.gov.et/Upload/CassationDecisio...</td>\n",
              "      <td>Biruk</td>\n",
              "      <td>2025-04-11 10:32:45.336000+00:00</td>\n",
              "    </tr>\n",
              "    <tr>\n",
              "      <th>2</th>\n",
              "      <td>https://laws.moj.gov.et/</td>\n",
              "      <td>Biruk</td>\n",
              "      <td>2025-04-11 10:32:27.774000+00:00</td>\n",
              "    </tr>\n",
              "    <tr>\n",
              "      <th>3</th>\n",
              "      <td>http://laws.eag.gov.et/</td>\n",
              "      <td>Biruk</td>\n",
              "      <td>2025-04-11 10:32:37.518000+00:00</td>\n",
              "    </tr>\n",
              "    <tr>\n",
              "      <th>4</th>\n",
              "      <td>https://www.moj.gov.et/about/mandate/</td>\n",
              "      <td>Biruk</td>\n",
              "      <td>2025-04-11 10:32:32.386000+00:00</td>\n",
              "    </tr>\n",
              "    <tr>\n",
              "      <th>5</th>\n",
              "      <td>http://www.moa.gov.et/wp-content/uploads/2024/...</td>\n",
              "      <td>Biruk</td>\n",
              "      <td>2025-04-11 10:32:25.517000+00:00</td>\n",
              "    </tr>\n",
              "  </tbody>\n",
              "</table>\n",
              "</div>\n",
              "    <div class=\"colab-df-buttons\">\n",
              "\n",
              "  <div class=\"colab-df-container\">\n",
              "    <button class=\"colab-df-convert\" onclick=\"convertToInteractive('df-29a19440-e94e-4264-b071-2564feb2ddf6')\"\n",
              "            title=\"Convert this dataframe to an interactive table.\"\n",
              "            style=\"display:none;\">\n",
              "\n",
              "  <svg xmlns=\"http://www.w3.org/2000/svg\" height=\"24px\" viewBox=\"0 -960 960 960\">\n",
              "    <path d=\"M120-120v-720h720v720H120Zm60-500h600v-160H180v160Zm220 220h160v-160H400v160Zm0 220h160v-160H400v160ZM180-400h160v-160H180v160Zm440 0h160v-160H620v160ZM180-180h160v-160H180v160Zm440 0h160v-160H620v160Z\"/>\n",
              "  </svg>\n",
              "    </button>\n",
              "\n",
              "  <style>\n",
              "    .colab-df-container {\n",
              "      display:flex;\n",
              "      gap: 12px;\n",
              "    }\n",
              "\n",
              "    .colab-df-convert {\n",
              "      background-color: #E8F0FE;\n",
              "      border: none;\n",
              "      border-radius: 50%;\n",
              "      cursor: pointer;\n",
              "      display: none;\n",
              "      fill: #1967D2;\n",
              "      height: 32px;\n",
              "      padding: 0 0 0 0;\n",
              "      width: 32px;\n",
              "    }\n",
              "\n",
              "    .colab-df-convert:hover {\n",
              "      background-color: #E2EBFA;\n",
              "      box-shadow: 0px 1px 2px rgba(60, 64, 67, 0.3), 0px 1px 3px 1px rgba(60, 64, 67, 0.15);\n",
              "      fill: #174EA6;\n",
              "    }\n",
              "\n",
              "    .colab-df-buttons div {\n",
              "      margin-bottom: 4px;\n",
              "    }\n",
              "\n",
              "    [theme=dark] .colab-df-convert {\n",
              "      background-color: #3B4455;\n",
              "      fill: #D2E3FC;\n",
              "    }\n",
              "\n",
              "    [theme=dark] .colab-df-convert:hover {\n",
              "      background-color: #434B5C;\n",
              "      box-shadow: 0px 1px 3px 1px rgba(0, 0, 0, 0.15);\n",
              "      filter: drop-shadow(0px 1px 2px rgba(0, 0, 0, 0.3));\n",
              "      fill: #FFFFFF;\n",
              "    }\n",
              "  </style>\n",
              "\n",
              "    <script>\n",
              "      const buttonEl =\n",
              "        document.querySelector('#df-29a19440-e94e-4264-b071-2564feb2ddf6 button.colab-df-convert');\n",
              "      buttonEl.style.display =\n",
              "        google.colab.kernel.accessAllowed ? 'block' : 'none';\n",
              "\n",
              "      async function convertToInteractive(key) {\n",
              "        const element = document.querySelector('#df-29a19440-e94e-4264-b071-2564feb2ddf6');\n",
              "        const dataTable =\n",
              "          await google.colab.kernel.invokeFunction('convertToInteractive',\n",
              "                                                    [key], {});\n",
              "        if (!dataTable) return;\n",
              "\n",
              "        const docLinkHtml = 'Like what you see? Visit the ' +\n",
              "          '<a target=\"_blank\" href=https://colab.research.google.com/notebooks/data_table.ipynb>data table notebook</a>'\n",
              "          + ' to learn more about interactive tables.';\n",
              "        element.innerHTML = '';\n",
              "        dataTable['output_type'] = 'display_data';\n",
              "        await google.colab.output.renderOutput(dataTable, element);\n",
              "        const docLink = document.createElement('div');\n",
              "        docLink.innerHTML = docLinkHtml;\n",
              "        element.appendChild(docLink);\n",
              "      }\n",
              "    </script>\n",
              "  </div>\n",
              "\n",
              "\n",
              "<div id=\"df-099b4a0a-813f-4a28-b327-411476b5763e\">\n",
              "  <button class=\"colab-df-quickchart\" onclick=\"quickchart('df-099b4a0a-813f-4a28-b327-411476b5763e')\"\n",
              "            title=\"Suggest charts\"\n",
              "            style=\"display:none;\">\n",
              "\n",
              "<svg xmlns=\"http://www.w3.org/2000/svg\" height=\"24px\"viewBox=\"0 0 24 24\"\n",
              "     width=\"24px\">\n",
              "    <g>\n",
              "        <path d=\"M19 3H5c-1.1 0-2 .9-2 2v14c0 1.1.9 2 2 2h14c1.1 0 2-.9 2-2V5c0-1.1-.9-2-2-2zM9 17H7v-7h2v7zm4 0h-2V7h2v10zm4 0h-2v-4h2v4z\"/>\n",
              "    </g>\n",
              "</svg>\n",
              "  </button>\n",
              "\n",
              "<style>\n",
              "  .colab-df-quickchart {\n",
              "      --bg-color: #E8F0FE;\n",
              "      --fill-color: #1967D2;\n",
              "      --hover-bg-color: #E2EBFA;\n",
              "      --hover-fill-color: #174EA6;\n",
              "      --disabled-fill-color: #AAA;\n",
              "      --disabled-bg-color: #DDD;\n",
              "  }\n",
              "\n",
              "  [theme=dark] .colab-df-quickchart {\n",
              "      --bg-color: #3B4455;\n",
              "      --fill-color: #D2E3FC;\n",
              "      --hover-bg-color: #434B5C;\n",
              "      --hover-fill-color: #FFFFFF;\n",
              "      --disabled-bg-color: #3B4455;\n",
              "      --disabled-fill-color: #666;\n",
              "  }\n",
              "\n",
              "  .colab-df-quickchart {\n",
              "    background-color: var(--bg-color);\n",
              "    border: none;\n",
              "    border-radius: 50%;\n",
              "    cursor: pointer;\n",
              "    display: none;\n",
              "    fill: var(--fill-color);\n",
              "    height: 32px;\n",
              "    padding: 0;\n",
              "    width: 32px;\n",
              "  }\n",
              "\n",
              "  .colab-df-quickchart:hover {\n",
              "    background-color: var(--hover-bg-color);\n",
              "    box-shadow: 0 1px 2px rgba(60, 64, 67, 0.3), 0 1px 3px 1px rgba(60, 64, 67, 0.15);\n",
              "    fill: var(--button-hover-fill-color);\n",
              "  }\n",
              "\n",
              "  .colab-df-quickchart-complete:disabled,\n",
              "  .colab-df-quickchart-complete:disabled:hover {\n",
              "    background-color: var(--disabled-bg-color);\n",
              "    fill: var(--disabled-fill-color);\n",
              "    box-shadow: none;\n",
              "  }\n",
              "\n",
              "  .colab-df-spinner {\n",
              "    border: 2px solid var(--fill-color);\n",
              "    border-color: transparent;\n",
              "    border-bottom-color: var(--fill-color);\n",
              "    animation:\n",
              "      spin 1s steps(1) infinite;\n",
              "  }\n",
              "\n",
              "  @keyframes spin {\n",
              "    0% {\n",
              "      border-color: transparent;\n",
              "      border-bottom-color: var(--fill-color);\n",
              "      border-left-color: var(--fill-color);\n",
              "    }\n",
              "    20% {\n",
              "      border-color: transparent;\n",
              "      border-left-color: var(--fill-color);\n",
              "      border-top-color: var(--fill-color);\n",
              "    }\n",
              "    30% {\n",
              "      border-color: transparent;\n",
              "      border-left-color: var(--fill-color);\n",
              "      border-top-color: var(--fill-color);\n",
              "      border-right-color: var(--fill-color);\n",
              "    }\n",
              "    40% {\n",
              "      border-color: transparent;\n",
              "      border-right-color: var(--fill-color);\n",
              "      border-top-color: var(--fill-color);\n",
              "    }\n",
              "    60% {\n",
              "      border-color: transparent;\n",
              "      border-right-color: var(--fill-color);\n",
              "    }\n",
              "    80% {\n",
              "      border-color: transparent;\n",
              "      border-right-color: var(--fill-color);\n",
              "      border-bottom-color: var(--fill-color);\n",
              "    }\n",
              "    90% {\n",
              "      border-color: transparent;\n",
              "      border-bottom-color: var(--fill-color);\n",
              "    }\n",
              "  }\n",
              "</style>\n",
              "\n",
              "  <script>\n",
              "    async function quickchart(key) {\n",
              "      const quickchartButtonEl =\n",
              "        document.querySelector('#' + key + ' button');\n",
              "      quickchartButtonEl.disabled = true;  // To prevent multiple clicks.\n",
              "      quickchartButtonEl.classList.add('colab-df-spinner');\n",
              "      try {\n",
              "        const charts = await google.colab.kernel.invokeFunction(\n",
              "            'suggestCharts', [key], {});\n",
              "      } catch (error) {\n",
              "        console.error('Error during call to suggestCharts:', error);\n",
              "      }\n",
              "      quickchartButtonEl.classList.remove('colab-df-spinner');\n",
              "      quickchartButtonEl.classList.add('colab-df-quickchart-complete');\n",
              "    }\n",
              "    (() => {\n",
              "      let quickchartButtonEl =\n",
              "        document.querySelector('#df-099b4a0a-813f-4a28-b327-411476b5763e button');\n",
              "      quickchartButtonEl.style.display =\n",
              "        google.colab.kernel.accessAllowed ? 'block' : 'none';\n",
              "    })();\n",
              "  </script>\n",
              "</div>\n",
              "\n",
              "  <div id=\"id_d1e9354f-c9f8-44be-bf38-28f8bb19eab0\">\n",
              "    <style>\n",
              "      .colab-df-generate {\n",
              "        background-color: #E8F0FE;\n",
              "        border: none;\n",
              "        border-radius: 50%;\n",
              "        cursor: pointer;\n",
              "        display: none;\n",
              "        fill: #1967D2;\n",
              "        height: 32px;\n",
              "        padding: 0 0 0 0;\n",
              "        width: 32px;\n",
              "      }\n",
              "\n",
              "      .colab-df-generate:hover {\n",
              "        background-color: #E2EBFA;\n",
              "        box-shadow: 0px 1px 2px rgba(60, 64, 67, 0.3), 0px 1px 3px 1px rgba(60, 64, 67, 0.15);\n",
              "        fill: #174EA6;\n",
              "      }\n",
              "\n",
              "      [theme=dark] .colab-df-generate {\n",
              "        background-color: #3B4455;\n",
              "        fill: #D2E3FC;\n",
              "      }\n",
              "\n",
              "      [theme=dark] .colab-df-generate:hover {\n",
              "        background-color: #434B5C;\n",
              "        box-shadow: 0px 1px 3px 1px rgba(0, 0, 0, 0.15);\n",
              "        filter: drop-shadow(0px 1px 2px rgba(0, 0, 0, 0.3));\n",
              "        fill: #FFFFFF;\n",
              "      }\n",
              "    </style>\n",
              "    <button class=\"colab-df-generate\" onclick=\"generateWithVariable('scraped_data')\"\n",
              "            title=\"Generate code using this dataframe.\"\n",
              "            style=\"display:none;\">\n",
              "\n",
              "  <svg xmlns=\"http://www.w3.org/2000/svg\" height=\"24px\"viewBox=\"0 0 24 24\"\n",
              "       width=\"24px\">\n",
              "    <path d=\"M7,19H8.4L18.45,9,17,7.55,7,17.6ZM5,21V16.75L18.45,3.32a2,2,0,0,1,2.83,0l1.4,1.43a1.91,1.91,0,0,1,.58,1.4,1.91,1.91,0,0,1-.58,1.4L9.25,21ZM18.45,9,17,7.55Zm-12,3A5.31,5.31,0,0,0,4.9,8.1,5.31,5.31,0,0,0,1,6.5,5.31,5.31,0,0,0,4.9,4.9,5.31,5.31,0,0,0,6.5,1,5.31,5.31,0,0,0,8.1,4.9,5.31,5.31,0,0,0,12,6.5,5.46,5.46,0,0,0,6.5,12Z\"/>\n",
              "  </svg>\n",
              "    </button>\n",
              "    <script>\n",
              "      (() => {\n",
              "      const buttonEl =\n",
              "        document.querySelector('#id_d1e9354f-c9f8-44be-bf38-28f8bb19eab0 button.colab-df-generate');\n",
              "      buttonEl.style.display =\n",
              "        google.colab.kernel.accessAllowed ? 'block' : 'none';\n",
              "\n",
              "      buttonEl.onclick = () => {\n",
              "        google.colab.notebook.generateWithVariable('scraped_data');\n",
              "      }\n",
              "      })();\n",
              "    </script>\n",
              "  </div>\n",
              "\n",
              "    </div>\n",
              "  </div>\n"
            ],
            "application/vnd.google.colaboratory.intrinsic+json": {
              "type": "dataframe",
              "variable_name": "scraped_data",
              "summary": "{\n  \"name\": \"scraped_data\",\n  \"rows\": 6,\n  \"fields\": [\n    {\n      \"column\": \"url\",\n      \"properties\": {\n        \"dtype\": \"string\",\n        \"num_unique_values\": 6,\n        \"samples\": [\n          \"https://acso.gov.et/wp-content/uploads/2021/06/Federal-Negarit-Gazette-1113.pdf\",\n          \"http://laws.eag.gov.et/Upload/CassationDecisionsDocument/a3bf28be-a8c3-408f-8671-a9adebb3281f.pdf\",\n          \"http://www.moa.gov.et/wp-content/uploads/2024/07/Definition-of-Powers-and-Duties-of-the-Executive-Organs-Proclamation.pdf\"\n        ],\n        \"semantic_type\": \"\",\n        \"description\": \"\"\n      }\n    },\n    {\n      \"column\": \"scraper\",\n      \"properties\": {\n        \"dtype\": \"category\",\n        \"num_unique_values\": 1,\n        \"samples\": [\n          \"Biruk\"\n        ],\n        \"semantic_type\": \"\",\n        \"description\": \"\"\n      }\n    },\n    {\n      \"column\": \"timestamp\",\n      \"properties\": {\n        \"dtype\": \"date\",\n        \"min\": \"2025-04-11 10:32:02.433000+00:00\",\n        \"max\": \"2025-04-11 10:32:45.336000+00:00\",\n        \"num_unique_values\": 6,\n        \"samples\": [\n          \"2025-04-11 10:32:02.433000+00:00\"\n        ],\n        \"semantic_type\": \"\",\n        \"description\": \"\"\n      }\n    }\n  ]\n}"
            }
          },
          "metadata": {},
          "execution_count": 24
        }
      ]
    },
    {
      "cell_type": "code",
      "source": [
        "import pandas as pd\n",
        "unscraped_data= pd.DataFrame(unscraped)\n",
        "unscraped"
      ],
      "metadata": {
        "id": "nD59758LiIOM",
        "outputId": "98cbec30-2283-41c6-d71d-d5a8d258405d",
        "colab": {
          "base_uri": "https://localhost:8080/"
        }
      },
      "execution_count": 25,
      "outputs": [
        {
          "output_type": "execute_result",
          "data": {
            "text/plain": [
              "[{'url': 'https://moe.gov.et/storage/Books/Administrative%20procedure%20proclamation%20(1).pdf',\n",
              "  'timestamp': DatetimeWithNanoseconds(2025, 4, 11, 10, 32, 17, 989000, tzinfo=datetime.timezone.utc),\n",
              "  'reason': \"HTTPSConnectionPool(host='moe.gov.et', port=443): Max retries exceeded with url: /storage/Books/Administrative%20procedure%20proclamation%20(1).pdf (Caused by ConnectTimeoutError(<urllib3.connection.HTTPSConnection object at 0x7e66398f6890>, 'Connection to moe.gov.et timed out. (connect timeout=10)'))\"},\n",
              " {'url': 'https://osdao.gov.et/wp-content/uploads/2024/04/Civil-Code-Amharic.pdf',\n",
              "  'timestamp': DatetimeWithNanoseconds(2025, 4, 11, 10, 32, 19, 585000, tzinfo=datetime.timezone.utc),\n",
              "  'reason': 'HTTPSConnectionPool(host=\\'osdao.gov.et\\', port=443): Max retries exceeded with url: /wp-content/uploads/2024/04/Civil-Code-Amharic.pdf (Caused by NameResolutionError(\"<urllib3.connection.HTTPSConnection object at 0x7e66398f5e50>: Failed to resolve \\'osdao.gov.et\\' ([Errno -2] Name or service not known)\"))'},\n",
              " {'url': 'https://www.e-consultation.gov.et/draft/3',\n",
              "  'timestamp': DatetimeWithNanoseconds(2025, 4, 11, 10, 32, 4, 702000, tzinfo=datetime.timezone.utc),\n",
              "  'reason': 'Input contains amharic chracter but not amaharic languge.'},\n",
              " {'url': 'https://osdao.gov.et/wp-content/uploads/2024/04/1243_2013_NEW-COMMERCIAL-CODE-OFFICIAL-AMHARIC-VERSION.pdf',\n",
              "  'timestamp': DatetimeWithNanoseconds(2025, 4, 11, 10, 32, 38, 529000, tzinfo=datetime.timezone.utc),\n",
              "  'reason': 'HTTPSConnectionPool(host=\\'osdao.gov.et\\', port=443): Max retries exceeded with url: /wp-content/uploads/2024/04/1243_2013_NEW-COMMERCIAL-CODE-OFFICIAL-AMHARIC-VERSION.pdf (Caused by NameResolutionError(\"<urllib3.connection.HTTPSConnection object at 0x7e662ac2f990>: Failed to resolve \\'osdao.gov.et\\' ([Errno -2] Name or service not known)\"))'}]"
            ]
          },
          "metadata": {},
          "execution_count": 25
        }
      ]
    },
    {
      "cell_type": "code",
      "source": [
        "unscraped_data.timestamp=pd.to_datetime(unscraped_data.timestamp)\n",
        "unscraped_data"
      ],
      "metadata": {
        "id": "5zF7deFGiQG8",
        "outputId": "f6b0864e-cf91-4f2c-f356-a4e370f706ae",
        "colab": {
          "base_uri": "https://localhost:8080/",
          "height": 264
        }
      },
      "execution_count": 26,
      "outputs": [
        {
          "output_type": "execute_result",
          "data": {
            "text/plain": [
              "                                                 url  \\\n",
              "0  https://moe.gov.et/storage/Books/Administrativ...   \n",
              "1  https://osdao.gov.et/wp-content/uploads/2024/0...   \n",
              "2          https://www.e-consultation.gov.et/draft/3   \n",
              "3  https://osdao.gov.et/wp-content/uploads/2024/0...   \n",
              "\n",
              "                         timestamp  \\\n",
              "0 2025-04-11 10:32:17.989000+00:00   \n",
              "1 2025-04-11 10:32:19.585000+00:00   \n",
              "2 2025-04-11 10:32:04.702000+00:00   \n",
              "3 2025-04-11 10:32:38.529000+00:00   \n",
              "\n",
              "                                              reason  \n",
              "0  HTTPSConnectionPool(host='moe.gov.et', port=44...  \n",
              "1  HTTPSConnectionPool(host='osdao.gov.et', port=...  \n",
              "2  Input contains amharic chracter but not amahar...  \n",
              "3  HTTPSConnectionPool(host='osdao.gov.et', port=...  "
            ],
            "text/html": [
              "\n",
              "  <div id=\"df-346b20f4-798b-4b3a-b6d8-b6e44c83bd36\" class=\"colab-df-container\">\n",
              "    <div>\n",
              "<style scoped>\n",
              "    .dataframe tbody tr th:only-of-type {\n",
              "        vertical-align: middle;\n",
              "    }\n",
              "\n",
              "    .dataframe tbody tr th {\n",
              "        vertical-align: top;\n",
              "    }\n",
              "\n",
              "    .dataframe thead th {\n",
              "        text-align: right;\n",
              "    }\n",
              "</style>\n",
              "<table border=\"1\" class=\"dataframe\">\n",
              "  <thead>\n",
              "    <tr style=\"text-align: right;\">\n",
              "      <th></th>\n",
              "      <th>url</th>\n",
              "      <th>timestamp</th>\n",
              "      <th>reason</th>\n",
              "    </tr>\n",
              "  </thead>\n",
              "  <tbody>\n",
              "    <tr>\n",
              "      <th>0</th>\n",
              "      <td>https://moe.gov.et/storage/Books/Administrativ...</td>\n",
              "      <td>2025-04-11 10:32:17.989000+00:00</td>\n",
              "      <td>HTTPSConnectionPool(host='moe.gov.et', port=44...</td>\n",
              "    </tr>\n",
              "    <tr>\n",
              "      <th>1</th>\n",
              "      <td>https://osdao.gov.et/wp-content/uploads/2024/0...</td>\n",
              "      <td>2025-04-11 10:32:19.585000+00:00</td>\n",
              "      <td>HTTPSConnectionPool(host='osdao.gov.et', port=...</td>\n",
              "    </tr>\n",
              "    <tr>\n",
              "      <th>2</th>\n",
              "      <td>https://www.e-consultation.gov.et/draft/3</td>\n",
              "      <td>2025-04-11 10:32:04.702000+00:00</td>\n",
              "      <td>Input contains amharic chracter but not amahar...</td>\n",
              "    </tr>\n",
              "    <tr>\n",
              "      <th>3</th>\n",
              "      <td>https://osdao.gov.et/wp-content/uploads/2024/0...</td>\n",
              "      <td>2025-04-11 10:32:38.529000+00:00</td>\n",
              "      <td>HTTPSConnectionPool(host='osdao.gov.et', port=...</td>\n",
              "    </tr>\n",
              "  </tbody>\n",
              "</table>\n",
              "</div>\n",
              "    <div class=\"colab-df-buttons\">\n",
              "\n",
              "  <div class=\"colab-df-container\">\n",
              "    <button class=\"colab-df-convert\" onclick=\"convertToInteractive('df-346b20f4-798b-4b3a-b6d8-b6e44c83bd36')\"\n",
              "            title=\"Convert this dataframe to an interactive table.\"\n",
              "            style=\"display:none;\">\n",
              "\n",
              "  <svg xmlns=\"http://www.w3.org/2000/svg\" height=\"24px\" viewBox=\"0 -960 960 960\">\n",
              "    <path d=\"M120-120v-720h720v720H120Zm60-500h600v-160H180v160Zm220 220h160v-160H400v160Zm0 220h160v-160H400v160ZM180-400h160v-160H180v160Zm440 0h160v-160H620v160ZM180-180h160v-160H180v160Zm440 0h160v-160H620v160Z\"/>\n",
              "  </svg>\n",
              "    </button>\n",
              "\n",
              "  <style>\n",
              "    .colab-df-container {\n",
              "      display:flex;\n",
              "      gap: 12px;\n",
              "    }\n",
              "\n",
              "    .colab-df-convert {\n",
              "      background-color: #E8F0FE;\n",
              "      border: none;\n",
              "      border-radius: 50%;\n",
              "      cursor: pointer;\n",
              "      display: none;\n",
              "      fill: #1967D2;\n",
              "      height: 32px;\n",
              "      padding: 0 0 0 0;\n",
              "      width: 32px;\n",
              "    }\n",
              "\n",
              "    .colab-df-convert:hover {\n",
              "      background-color: #E2EBFA;\n",
              "      box-shadow: 0px 1px 2px rgba(60, 64, 67, 0.3), 0px 1px 3px 1px rgba(60, 64, 67, 0.15);\n",
              "      fill: #174EA6;\n",
              "    }\n",
              "\n",
              "    .colab-df-buttons div {\n",
              "      margin-bottom: 4px;\n",
              "    }\n",
              "\n",
              "    [theme=dark] .colab-df-convert {\n",
              "      background-color: #3B4455;\n",
              "      fill: #D2E3FC;\n",
              "    }\n",
              "\n",
              "    [theme=dark] .colab-df-convert:hover {\n",
              "      background-color: #434B5C;\n",
              "      box-shadow: 0px 1px 3px 1px rgba(0, 0, 0, 0.15);\n",
              "      filter: drop-shadow(0px 1px 2px rgba(0, 0, 0, 0.3));\n",
              "      fill: #FFFFFF;\n",
              "    }\n",
              "  </style>\n",
              "\n",
              "    <script>\n",
              "      const buttonEl =\n",
              "        document.querySelector('#df-346b20f4-798b-4b3a-b6d8-b6e44c83bd36 button.colab-df-convert');\n",
              "      buttonEl.style.display =\n",
              "        google.colab.kernel.accessAllowed ? 'block' : 'none';\n",
              "\n",
              "      async function convertToInteractive(key) {\n",
              "        const element = document.querySelector('#df-346b20f4-798b-4b3a-b6d8-b6e44c83bd36');\n",
              "        const dataTable =\n",
              "          await google.colab.kernel.invokeFunction('convertToInteractive',\n",
              "                                                    [key], {});\n",
              "        if (!dataTable) return;\n",
              "\n",
              "        const docLinkHtml = 'Like what you see? Visit the ' +\n",
              "          '<a target=\"_blank\" href=https://colab.research.google.com/notebooks/data_table.ipynb>data table notebook</a>'\n",
              "          + ' to learn more about interactive tables.';\n",
              "        element.innerHTML = '';\n",
              "        dataTable['output_type'] = 'display_data';\n",
              "        await google.colab.output.renderOutput(dataTable, element);\n",
              "        const docLink = document.createElement('div');\n",
              "        docLink.innerHTML = docLinkHtml;\n",
              "        element.appendChild(docLink);\n",
              "      }\n",
              "    </script>\n",
              "  </div>\n",
              "\n",
              "\n",
              "<div id=\"df-ea17032e-a44c-44b5-ab46-dba9f69a9f14\">\n",
              "  <button class=\"colab-df-quickchart\" onclick=\"quickchart('df-ea17032e-a44c-44b5-ab46-dba9f69a9f14')\"\n",
              "            title=\"Suggest charts\"\n",
              "            style=\"display:none;\">\n",
              "\n",
              "<svg xmlns=\"http://www.w3.org/2000/svg\" height=\"24px\"viewBox=\"0 0 24 24\"\n",
              "     width=\"24px\">\n",
              "    <g>\n",
              "        <path d=\"M19 3H5c-1.1 0-2 .9-2 2v14c0 1.1.9 2 2 2h14c1.1 0 2-.9 2-2V5c0-1.1-.9-2-2-2zM9 17H7v-7h2v7zm4 0h-2V7h2v10zm4 0h-2v-4h2v4z\"/>\n",
              "    </g>\n",
              "</svg>\n",
              "  </button>\n",
              "\n",
              "<style>\n",
              "  .colab-df-quickchart {\n",
              "      --bg-color: #E8F0FE;\n",
              "      --fill-color: #1967D2;\n",
              "      --hover-bg-color: #E2EBFA;\n",
              "      --hover-fill-color: #174EA6;\n",
              "      --disabled-fill-color: #AAA;\n",
              "      --disabled-bg-color: #DDD;\n",
              "  }\n",
              "\n",
              "  [theme=dark] .colab-df-quickchart {\n",
              "      --bg-color: #3B4455;\n",
              "      --fill-color: #D2E3FC;\n",
              "      --hover-bg-color: #434B5C;\n",
              "      --hover-fill-color: #FFFFFF;\n",
              "      --disabled-bg-color: #3B4455;\n",
              "      --disabled-fill-color: #666;\n",
              "  }\n",
              "\n",
              "  .colab-df-quickchart {\n",
              "    background-color: var(--bg-color);\n",
              "    border: none;\n",
              "    border-radius: 50%;\n",
              "    cursor: pointer;\n",
              "    display: none;\n",
              "    fill: var(--fill-color);\n",
              "    height: 32px;\n",
              "    padding: 0;\n",
              "    width: 32px;\n",
              "  }\n",
              "\n",
              "  .colab-df-quickchart:hover {\n",
              "    background-color: var(--hover-bg-color);\n",
              "    box-shadow: 0 1px 2px rgba(60, 64, 67, 0.3), 0 1px 3px 1px rgba(60, 64, 67, 0.15);\n",
              "    fill: var(--button-hover-fill-color);\n",
              "  }\n",
              "\n",
              "  .colab-df-quickchart-complete:disabled,\n",
              "  .colab-df-quickchart-complete:disabled:hover {\n",
              "    background-color: var(--disabled-bg-color);\n",
              "    fill: var(--disabled-fill-color);\n",
              "    box-shadow: none;\n",
              "  }\n",
              "\n",
              "  .colab-df-spinner {\n",
              "    border: 2px solid var(--fill-color);\n",
              "    border-color: transparent;\n",
              "    border-bottom-color: var(--fill-color);\n",
              "    animation:\n",
              "      spin 1s steps(1) infinite;\n",
              "  }\n",
              "\n",
              "  @keyframes spin {\n",
              "    0% {\n",
              "      border-color: transparent;\n",
              "      border-bottom-color: var(--fill-color);\n",
              "      border-left-color: var(--fill-color);\n",
              "    }\n",
              "    20% {\n",
              "      border-color: transparent;\n",
              "      border-left-color: var(--fill-color);\n",
              "      border-top-color: var(--fill-color);\n",
              "    }\n",
              "    30% {\n",
              "      border-color: transparent;\n",
              "      border-left-color: var(--fill-color);\n",
              "      border-top-color: var(--fill-color);\n",
              "      border-right-color: var(--fill-color);\n",
              "    }\n",
              "    40% {\n",
              "      border-color: transparent;\n",
              "      border-right-color: var(--fill-color);\n",
              "      border-top-color: var(--fill-color);\n",
              "    }\n",
              "    60% {\n",
              "      border-color: transparent;\n",
              "      border-right-color: var(--fill-color);\n",
              "    }\n",
              "    80% {\n",
              "      border-color: transparent;\n",
              "      border-right-color: var(--fill-color);\n",
              "      border-bottom-color: var(--fill-color);\n",
              "    }\n",
              "    90% {\n",
              "      border-color: transparent;\n",
              "      border-bottom-color: var(--fill-color);\n",
              "    }\n",
              "  }\n",
              "</style>\n",
              "\n",
              "  <script>\n",
              "    async function quickchart(key) {\n",
              "      const quickchartButtonEl =\n",
              "        document.querySelector('#' + key + ' button');\n",
              "      quickchartButtonEl.disabled = true;  // To prevent multiple clicks.\n",
              "      quickchartButtonEl.classList.add('colab-df-spinner');\n",
              "      try {\n",
              "        const charts = await google.colab.kernel.invokeFunction(\n",
              "            'suggestCharts', [key], {});\n",
              "      } catch (error) {\n",
              "        console.error('Error during call to suggestCharts:', error);\n",
              "      }\n",
              "      quickchartButtonEl.classList.remove('colab-df-spinner');\n",
              "      quickchartButtonEl.classList.add('colab-df-quickchart-complete');\n",
              "    }\n",
              "    (() => {\n",
              "      let quickchartButtonEl =\n",
              "        document.querySelector('#df-ea17032e-a44c-44b5-ab46-dba9f69a9f14 button');\n",
              "      quickchartButtonEl.style.display =\n",
              "        google.colab.kernel.accessAllowed ? 'block' : 'none';\n",
              "    })();\n",
              "  </script>\n",
              "</div>\n",
              "\n",
              "  <div id=\"id_8758f8c6-2b6b-4250-98a2-38391d3bd920\">\n",
              "    <style>\n",
              "      .colab-df-generate {\n",
              "        background-color: #E8F0FE;\n",
              "        border: none;\n",
              "        border-radius: 50%;\n",
              "        cursor: pointer;\n",
              "        display: none;\n",
              "        fill: #1967D2;\n",
              "        height: 32px;\n",
              "        padding: 0 0 0 0;\n",
              "        width: 32px;\n",
              "      }\n",
              "\n",
              "      .colab-df-generate:hover {\n",
              "        background-color: #E2EBFA;\n",
              "        box-shadow: 0px 1px 2px rgba(60, 64, 67, 0.3), 0px 1px 3px 1px rgba(60, 64, 67, 0.15);\n",
              "        fill: #174EA6;\n",
              "      }\n",
              "\n",
              "      [theme=dark] .colab-df-generate {\n",
              "        background-color: #3B4455;\n",
              "        fill: #D2E3FC;\n",
              "      }\n",
              "\n",
              "      [theme=dark] .colab-df-generate:hover {\n",
              "        background-color: #434B5C;\n",
              "        box-shadow: 0px 1px 3px 1px rgba(0, 0, 0, 0.15);\n",
              "        filter: drop-shadow(0px 1px 2px rgba(0, 0, 0, 0.3));\n",
              "        fill: #FFFFFF;\n",
              "      }\n",
              "    </style>\n",
              "    <button class=\"colab-df-generate\" onclick=\"generateWithVariable('unscraped_data')\"\n",
              "            title=\"Generate code using this dataframe.\"\n",
              "            style=\"display:none;\">\n",
              "\n",
              "  <svg xmlns=\"http://www.w3.org/2000/svg\" height=\"24px\"viewBox=\"0 0 24 24\"\n",
              "       width=\"24px\">\n",
              "    <path d=\"M7,19H8.4L18.45,9,17,7.55,7,17.6ZM5,21V16.75L18.45,3.32a2,2,0,0,1,2.83,0l1.4,1.43a1.91,1.91,0,0,1,.58,1.4,1.91,1.91,0,0,1-.58,1.4L9.25,21ZM18.45,9,17,7.55Zm-12,3A5.31,5.31,0,0,0,4.9,8.1,5.31,5.31,0,0,0,1,6.5,5.31,5.31,0,0,0,4.9,4.9,5.31,5.31,0,0,0,6.5,1,5.31,5.31,0,0,0,8.1,4.9,5.31,5.31,0,0,0,12,6.5,5.46,5.46,0,0,0,6.5,12Z\"/>\n",
              "  </svg>\n",
              "    </button>\n",
              "    <script>\n",
              "      (() => {\n",
              "      const buttonEl =\n",
              "        document.querySelector('#id_8758f8c6-2b6b-4250-98a2-38391d3bd920 button.colab-df-generate');\n",
              "      buttonEl.style.display =\n",
              "        google.colab.kernel.accessAllowed ? 'block' : 'none';\n",
              "\n",
              "      buttonEl.onclick = () => {\n",
              "        google.colab.notebook.generateWithVariable('unscraped_data');\n",
              "      }\n",
              "      })();\n",
              "    </script>\n",
              "  </div>\n",
              "\n",
              "    </div>\n",
              "  </div>\n"
            ],
            "application/vnd.google.colaboratory.intrinsic+json": {
              "type": "dataframe",
              "variable_name": "unscraped_data",
              "summary": "{\n  \"name\": \"unscraped_data\",\n  \"rows\": 4,\n  \"fields\": [\n    {\n      \"column\": \"url\",\n      \"properties\": {\n        \"dtype\": \"string\",\n        \"num_unique_values\": 4,\n        \"samples\": [\n          \"https://osdao.gov.et/wp-content/uploads/2024/04/Civil-Code-Amharic.pdf\",\n          \"https://osdao.gov.et/wp-content/uploads/2024/04/1243_2013_NEW-COMMERCIAL-CODE-OFFICIAL-AMHARIC-VERSION.pdf\",\n          \"https://moe.gov.et/storage/Books/Administrative%20procedure%20proclamation%20(1).pdf\"\n        ],\n        \"semantic_type\": \"\",\n        \"description\": \"\"\n      }\n    },\n    {\n      \"column\": \"timestamp\",\n      \"properties\": {\n        \"dtype\": \"date\",\n        \"min\": \"2025-04-11 10:32:04.702000+00:00\",\n        \"max\": \"2025-04-11 10:32:38.529000+00:00\",\n        \"num_unique_values\": 4,\n        \"samples\": [\n          \"2025-04-11 10:32:19.585000+00:00\",\n          \"2025-04-11 10:32:38.529000+00:00\",\n          \"2025-04-11 10:32:17.989000+00:00\"\n        ],\n        \"semantic_type\": \"\",\n        \"description\": \"\"\n      }\n    },\n    {\n      \"column\": \"reason\",\n      \"properties\": {\n        \"dtype\": \"string\",\n        \"num_unique_values\": 4,\n        \"samples\": [\n          \"HTTPSConnectionPool(host='osdao.gov.et', port=443): Max retries exceeded with url: /wp-content/uploads/2024/04/Civil-Code-Amharic.pdf (Caused by NameResolutionError(\\\"<urllib3.connection.HTTPSConnection object at 0x7e66398f5e50>: Failed to resolve 'osdao.gov.et' ([Errno -2] Name or service not known)\\\"))\",\n          \"HTTPSConnectionPool(host='osdao.gov.et', port=443): Max retries exceeded with url: /wp-content/uploads/2024/04/1243_2013_NEW-COMMERCIAL-CODE-OFFICIAL-AMHARIC-VERSION.pdf (Caused by NameResolutionError(\\\"<urllib3.connection.HTTPSConnection object at 0x7e662ac2f990>: Failed to resolve 'osdao.gov.et' ([Errno -2] Name or service not known)\\\"))\",\n          \"HTTPSConnectionPool(host='moe.gov.et', port=443): Max retries exceeded with url: /storage/Books/Administrative%20procedure%20proclamation%20(1).pdf (Caused by ConnectTimeoutError(<urllib3.connection.HTTPSConnection object at 0x7e66398f6890>, 'Connection to moe.gov.et timed out. (connect timeout=10)'))\"\n        ],\n        \"semantic_type\": \"\",\n        \"description\": \"\"\n      }\n    }\n  ]\n}"
            }
          },
          "metadata": {},
          "execution_count": 26
        }
      ]
    },
    {
      "cell_type": "markdown",
      "source": [
        "## Great! 😊 Don't forget to ask me if you have any questions! You can always reach out to me here on Telegram: ✈️ [YonaYonani](https://t.me/YonaYonani)"
      ],
      "metadata": {
        "id": "C03qKqJBn36C"
      }
    },
    {
      "cell_type": "markdown",
      "source": [],
      "metadata": {
        "id": "uT41LgInnUSu"
      }
    },
    {
      "cell_type": "code",
      "source": [
        "simple_query = 'site:gov.et filetype:pdf \"አካባቢ ግንባታ\" OR \"አካባቢ መረጃ\" OR \"ሕግ ስርዓት\" OR \"የግል ተቋማት\" OR \"አስተዳደር ስርዓት\" OR \"የመንግስት ትእዛዝ\" OR \"የትእዛዝ ቁጥር\" OR \"የፌዴራል መብት\" OR \"የአካባቢ መንግሥት\"\n",
        "urls = get_links_from_simple_search(simple_query)\n",
        "# Assuming scraped_data and unscraped_data are pandas DataFrames with a 'url' column\n",
        "filtered_urls = []\n",
        "for url in urls:\n",
        "    # Check if the URL is NOT in both scraped_data.url and unscraped_data.url\n",
        "    if url not in scraped_data['url'].values and url not in unscraped_data['url'].values:\n",
        "        filtered_urls.append(url)\n",
        "\n",
        "\n",
        "\n",
        "\n",
        "\n"
      ],
      "metadata": {
        "id": "fCc2sEkIqeAA"
      },
      "execution_count": 37,
      "outputs": []
    },
    {
      "cell_type": "code",
      "source": [
        "\n",
        "print(filtered_urls)"
      ],
      "metadata": {
        "id": "gHYL__i9r22H",
        "outputId": "03e06504-3669-48e5-bdd9-2d80e10d5c88",
        "colab": {
          "base_uri": "https://localhost:8080/"
        }
      },
      "execution_count": 38,
      "outputs": [
        {
          "output_type": "stream",
          "name": "stdout",
          "text": [
            "['https://www.fjli.gov.et/', 'https://e-consultation.gov.et/draft/2', 'https://aajs.gov.et/blogs/detail/68', 'https://www.fjli.gov.et/training.html', 'https://www.segocom.gov.et/sites/default/files/Attached%20Document/%E1%8B%A8%E1%8D%8D%E1%89%B5%E1%88%85_%E1%89%A2%E1%88%AE_%E1%8A%A0%E1%8B%B0%E1%88%A8%E1%8C%83%E1%8C%80%E1%89%B5_%E1%88%A8%E1%89%82%E1%89%85_%E1%8A%A0%E1%8B%8B%E1%8C%85.doc', 'https://www.fjli.gov.et/news/news.html', 'https://www.moj.gov.et/department/state-minister-for-governments-legal-and-justice-sector/legal-studies-drafting-and-consolidation-directorate-general/', 'https://www.moj.gov.et/']\n"
          ]
        }
      ]
    },
    {
      "cell_type": "code",
      "source": [
        "scrape(filtered_urls, \"Yonas Awoke\")"
      ],
      "metadata": {
        "id": "kAGDwYswqfyu",
        "outputId": "b1699d66-88be-4d46-d1ee-0fd9dcc1a060",
        "colab": {
          "base_uri": "https://localhost:8080/"
        }
      },
      "execution_count": 39,
      "outputs": [
        {
          "output_type": "stream",
          "name": "stdout",
          "text": [
            "Processing: https://www.fjli.gov.et/\n"
          ]
        },
        {
          "output_type": "stream",
          "name": "stderr",
          "text": [
            "/usr/local/lib/python3.11/dist-packages/google/cloud/firestore_v1/base_collection.py:303: UserWarning: Detected filter using positional arguments. Prefer using the 'filter' keyword argument instead.\n",
            "  return query.where(field_path, op_string, value)\n"
          ]
        },
        {
          "output_type": "stream",
          "name": "stdout",
          "text": [
            "⚠️ URL is already registered, skipping.\n",
            "Processing: https://e-consultation.gov.et/draft/2\n",
            "⚠️ URL is already registered, skipping.\n",
            "Processing: https://aajs.gov.et/blogs/detail/68\n",
            "⚠️ URL is already registered, skipping.\n",
            "Processing: https://www.fjli.gov.et/training.html\n",
            "⚠️ URL is already registered, skipping.\n",
            "Processing: https://www.segocom.gov.et/sites/default/files/Attached%20Document/%E1%8B%A8%E1%8D%8D%E1%89%B5%E1%88%85_%E1%89%A2%E1%88%AE_%E1%8A%A0%E1%8B%B0%E1%88%A8%E1%8C%83%E1%8C%80%E1%89%B5_%E1%88%A8%E1%89%82%E1%89%85_%E1%8A%A0%E1%8B%8B%E1%8C%85.doc\n",
            "⚠️ URL is already registered, skipping.\n",
            "Processing: https://www.fjli.gov.et/news/news.html\n",
            "⚠️ URL is already registered, skipping.\n",
            "Processing: https://www.moj.gov.et/department/state-minister-for-governments-legal-and-justice-sector/legal-studies-drafting-and-consolidation-directorate-general/\n",
            "⚠️ URL is already registered, skipping.\n",
            "Processing: https://www.moj.gov.et/\n",
            "⚠️ URL is already registered, skipping.\n"
          ]
        }
      ]
    },
    {
      "cell_type": "code",
      "source": [
        " scraped_data"
      ],
      "metadata": {
        "id": "aifiI7CRqrJZ",
        "outputId": "ed453e6e-e03b-4b32-c9ed-602172142ea3",
        "colab": {
          "base_uri": "https://localhost:8080/",
          "height": 237
        }
      },
      "execution_count": 30,
      "outputs": [
        {
          "output_type": "execute_result",
          "data": {
            "text/plain": [
              "                                                 url scraper  \\\n",
              "0  https://acso.gov.et/wp-content/uploads/2021/06...   Biruk   \n",
              "1  http://laws.eag.gov.et/Upload/CassationDecisio...   Biruk   \n",
              "2                           https://laws.moj.gov.et/   Biruk   \n",
              "3                            http://laws.eag.gov.et/   Biruk   \n",
              "4              https://www.moj.gov.et/about/mandate/   Biruk   \n",
              "5  http://www.moa.gov.et/wp-content/uploads/2024/...   Biruk   \n",
              "\n",
              "                         timestamp  \n",
              "0 2025-04-11 10:32:02.433000+00:00  \n",
              "1 2025-04-11 10:32:45.336000+00:00  \n",
              "2 2025-04-11 10:32:27.774000+00:00  \n",
              "3 2025-04-11 10:32:37.518000+00:00  \n",
              "4 2025-04-11 10:32:32.386000+00:00  \n",
              "5 2025-04-11 10:32:25.517000+00:00  "
            ],
            "text/html": [
              "\n",
              "  <div id=\"df-d542a9ca-ee71-41b0-8cd7-80e1c1e1216a\" class=\"colab-df-container\">\n",
              "    <div>\n",
              "<style scoped>\n",
              "    .dataframe tbody tr th:only-of-type {\n",
              "        vertical-align: middle;\n",
              "    }\n",
              "\n",
              "    .dataframe tbody tr th {\n",
              "        vertical-align: top;\n",
              "    }\n",
              "\n",
              "    .dataframe thead th {\n",
              "        text-align: right;\n",
              "    }\n",
              "</style>\n",
              "<table border=\"1\" class=\"dataframe\">\n",
              "  <thead>\n",
              "    <tr style=\"text-align: right;\">\n",
              "      <th></th>\n",
              "      <th>url</th>\n",
              "      <th>scraper</th>\n",
              "      <th>timestamp</th>\n",
              "    </tr>\n",
              "  </thead>\n",
              "  <tbody>\n",
              "    <tr>\n",
              "      <th>0</th>\n",
              "      <td>https://acso.gov.et/wp-content/uploads/2021/06...</td>\n",
              "      <td>Biruk</td>\n",
              "      <td>2025-04-11 10:32:02.433000+00:00</td>\n",
              "    </tr>\n",
              "    <tr>\n",
              "      <th>1</th>\n",
              "      <td>http://laws.eag.gov.et/Upload/CassationDecisio...</td>\n",
              "      <td>Biruk</td>\n",
              "      <td>2025-04-11 10:32:45.336000+00:00</td>\n",
              "    </tr>\n",
              "    <tr>\n",
              "      <th>2</th>\n",
              "      <td>https://laws.moj.gov.et/</td>\n",
              "      <td>Biruk</td>\n",
              "      <td>2025-04-11 10:32:27.774000+00:00</td>\n",
              "    </tr>\n",
              "    <tr>\n",
              "      <th>3</th>\n",
              "      <td>http://laws.eag.gov.et/</td>\n",
              "      <td>Biruk</td>\n",
              "      <td>2025-04-11 10:32:37.518000+00:00</td>\n",
              "    </tr>\n",
              "    <tr>\n",
              "      <th>4</th>\n",
              "      <td>https://www.moj.gov.et/about/mandate/</td>\n",
              "      <td>Biruk</td>\n",
              "      <td>2025-04-11 10:32:32.386000+00:00</td>\n",
              "    </tr>\n",
              "    <tr>\n",
              "      <th>5</th>\n",
              "      <td>http://www.moa.gov.et/wp-content/uploads/2024/...</td>\n",
              "      <td>Biruk</td>\n",
              "      <td>2025-04-11 10:32:25.517000+00:00</td>\n",
              "    </tr>\n",
              "  </tbody>\n",
              "</table>\n",
              "</div>\n",
              "    <div class=\"colab-df-buttons\">\n",
              "\n",
              "  <div class=\"colab-df-container\">\n",
              "    <button class=\"colab-df-convert\" onclick=\"convertToInteractive('df-d542a9ca-ee71-41b0-8cd7-80e1c1e1216a')\"\n",
              "            title=\"Convert this dataframe to an interactive table.\"\n",
              "            style=\"display:none;\">\n",
              "\n",
              "  <svg xmlns=\"http://www.w3.org/2000/svg\" height=\"24px\" viewBox=\"0 -960 960 960\">\n",
              "    <path d=\"M120-120v-720h720v720H120Zm60-500h600v-160H180v160Zm220 220h160v-160H400v160Zm0 220h160v-160H400v160ZM180-400h160v-160H180v160Zm440 0h160v-160H620v160ZM180-180h160v-160H180v160Zm440 0h160v-160H620v160Z\"/>\n",
              "  </svg>\n",
              "    </button>\n",
              "\n",
              "  <style>\n",
              "    .colab-df-container {\n",
              "      display:flex;\n",
              "      gap: 12px;\n",
              "    }\n",
              "\n",
              "    .colab-df-convert {\n",
              "      background-color: #E8F0FE;\n",
              "      border: none;\n",
              "      border-radius: 50%;\n",
              "      cursor: pointer;\n",
              "      display: none;\n",
              "      fill: #1967D2;\n",
              "      height: 32px;\n",
              "      padding: 0 0 0 0;\n",
              "      width: 32px;\n",
              "    }\n",
              "\n",
              "    .colab-df-convert:hover {\n",
              "      background-color: #E2EBFA;\n",
              "      box-shadow: 0px 1px 2px rgba(60, 64, 67, 0.3), 0px 1px 3px 1px rgba(60, 64, 67, 0.15);\n",
              "      fill: #174EA6;\n",
              "    }\n",
              "\n",
              "    .colab-df-buttons div {\n",
              "      margin-bottom: 4px;\n",
              "    }\n",
              "\n",
              "    [theme=dark] .colab-df-convert {\n",
              "      background-color: #3B4455;\n",
              "      fill: #D2E3FC;\n",
              "    }\n",
              "\n",
              "    [theme=dark] .colab-df-convert:hover {\n",
              "      background-color: #434B5C;\n",
              "      box-shadow: 0px 1px 3px 1px rgba(0, 0, 0, 0.15);\n",
              "      filter: drop-shadow(0px 1px 2px rgba(0, 0, 0, 0.3));\n",
              "      fill: #FFFFFF;\n",
              "    }\n",
              "  </style>\n",
              "\n",
              "    <script>\n",
              "      const buttonEl =\n",
              "        document.querySelector('#df-d542a9ca-ee71-41b0-8cd7-80e1c1e1216a button.colab-df-convert');\n",
              "      buttonEl.style.display =\n",
              "        google.colab.kernel.accessAllowed ? 'block' : 'none';\n",
              "\n",
              "      async function convertToInteractive(key) {\n",
              "        const element = document.querySelector('#df-d542a9ca-ee71-41b0-8cd7-80e1c1e1216a');\n",
              "        const dataTable =\n",
              "          await google.colab.kernel.invokeFunction('convertToInteractive',\n",
              "                                                    [key], {});\n",
              "        if (!dataTable) return;\n",
              "\n",
              "        const docLinkHtml = 'Like what you see? Visit the ' +\n",
              "          '<a target=\"_blank\" href=https://colab.research.google.com/notebooks/data_table.ipynb>data table notebook</a>'\n",
              "          + ' to learn more about interactive tables.';\n",
              "        element.innerHTML = '';\n",
              "        dataTable['output_type'] = 'display_data';\n",
              "        await google.colab.output.renderOutput(dataTable, element);\n",
              "        const docLink = document.createElement('div');\n",
              "        docLink.innerHTML = docLinkHtml;\n",
              "        element.appendChild(docLink);\n",
              "      }\n",
              "    </script>\n",
              "  </div>\n",
              "\n",
              "\n",
              "<div id=\"df-7a556760-11f7-42d9-a62f-583f5fa5f9f0\">\n",
              "  <button class=\"colab-df-quickchart\" onclick=\"quickchart('df-7a556760-11f7-42d9-a62f-583f5fa5f9f0')\"\n",
              "            title=\"Suggest charts\"\n",
              "            style=\"display:none;\">\n",
              "\n",
              "<svg xmlns=\"http://www.w3.org/2000/svg\" height=\"24px\"viewBox=\"0 0 24 24\"\n",
              "     width=\"24px\">\n",
              "    <g>\n",
              "        <path d=\"M19 3H5c-1.1 0-2 .9-2 2v14c0 1.1.9 2 2 2h14c1.1 0 2-.9 2-2V5c0-1.1-.9-2-2-2zM9 17H7v-7h2v7zm4 0h-2V7h2v10zm4 0h-2v-4h2v4z\"/>\n",
              "    </g>\n",
              "</svg>\n",
              "  </button>\n",
              "\n",
              "<style>\n",
              "  .colab-df-quickchart {\n",
              "      --bg-color: #E8F0FE;\n",
              "      --fill-color: #1967D2;\n",
              "      --hover-bg-color: #E2EBFA;\n",
              "      --hover-fill-color: #174EA6;\n",
              "      --disabled-fill-color: #AAA;\n",
              "      --disabled-bg-color: #DDD;\n",
              "  }\n",
              "\n",
              "  [theme=dark] .colab-df-quickchart {\n",
              "      --bg-color: #3B4455;\n",
              "      --fill-color: #D2E3FC;\n",
              "      --hover-bg-color: #434B5C;\n",
              "      --hover-fill-color: #FFFFFF;\n",
              "      --disabled-bg-color: #3B4455;\n",
              "      --disabled-fill-color: #666;\n",
              "  }\n",
              "\n",
              "  .colab-df-quickchart {\n",
              "    background-color: var(--bg-color);\n",
              "    border: none;\n",
              "    border-radius: 50%;\n",
              "    cursor: pointer;\n",
              "    display: none;\n",
              "    fill: var(--fill-color);\n",
              "    height: 32px;\n",
              "    padding: 0;\n",
              "    width: 32px;\n",
              "  }\n",
              "\n",
              "  .colab-df-quickchart:hover {\n",
              "    background-color: var(--hover-bg-color);\n",
              "    box-shadow: 0 1px 2px rgba(60, 64, 67, 0.3), 0 1px 3px 1px rgba(60, 64, 67, 0.15);\n",
              "    fill: var(--button-hover-fill-color);\n",
              "  }\n",
              "\n",
              "  .colab-df-quickchart-complete:disabled,\n",
              "  .colab-df-quickchart-complete:disabled:hover {\n",
              "    background-color: var(--disabled-bg-color);\n",
              "    fill: var(--disabled-fill-color);\n",
              "    box-shadow: none;\n",
              "  }\n",
              "\n",
              "  .colab-df-spinner {\n",
              "    border: 2px solid var(--fill-color);\n",
              "    border-color: transparent;\n",
              "    border-bottom-color: var(--fill-color);\n",
              "    animation:\n",
              "      spin 1s steps(1) infinite;\n",
              "  }\n",
              "\n",
              "  @keyframes spin {\n",
              "    0% {\n",
              "      border-color: transparent;\n",
              "      border-bottom-color: var(--fill-color);\n",
              "      border-left-color: var(--fill-color);\n",
              "    }\n",
              "    20% {\n",
              "      border-color: transparent;\n",
              "      border-left-color: var(--fill-color);\n",
              "      border-top-color: var(--fill-color);\n",
              "    }\n",
              "    30% {\n",
              "      border-color: transparent;\n",
              "      border-left-color: var(--fill-color);\n",
              "      border-top-color: var(--fill-color);\n",
              "      border-right-color: var(--fill-color);\n",
              "    }\n",
              "    40% {\n",
              "      border-color: transparent;\n",
              "      border-right-color: var(--fill-color);\n",
              "      border-top-color: var(--fill-color);\n",
              "    }\n",
              "    60% {\n",
              "      border-color: transparent;\n",
              "      border-right-color: var(--fill-color);\n",
              "    }\n",
              "    80% {\n",
              "      border-color: transparent;\n",
              "      border-right-color: var(--fill-color);\n",
              "      border-bottom-color: var(--fill-color);\n",
              "    }\n",
              "    90% {\n",
              "      border-color: transparent;\n",
              "      border-bottom-color: var(--fill-color);\n",
              "    }\n",
              "  }\n",
              "</style>\n",
              "\n",
              "  <script>\n",
              "    async function quickchart(key) {\n",
              "      const quickchartButtonEl =\n",
              "        document.querySelector('#' + key + ' button');\n",
              "      quickchartButtonEl.disabled = true;  // To prevent multiple clicks.\n",
              "      quickchartButtonEl.classList.add('colab-df-spinner');\n",
              "      try {\n",
              "        const charts = await google.colab.kernel.invokeFunction(\n",
              "            'suggestCharts', [key], {});\n",
              "      } catch (error) {\n",
              "        console.error('Error during call to suggestCharts:', error);\n",
              "      }\n",
              "      quickchartButtonEl.classList.remove('colab-df-spinner');\n",
              "      quickchartButtonEl.classList.add('colab-df-quickchart-complete');\n",
              "    }\n",
              "    (() => {\n",
              "      let quickchartButtonEl =\n",
              "        document.querySelector('#df-7a556760-11f7-42d9-a62f-583f5fa5f9f0 button');\n",
              "      quickchartButtonEl.style.display =\n",
              "        google.colab.kernel.accessAllowed ? 'block' : 'none';\n",
              "    })();\n",
              "  </script>\n",
              "</div>\n",
              "\n",
              "  <div id=\"id_df56088c-e751-477c-ba0f-73e225e88db8\">\n",
              "    <style>\n",
              "      .colab-df-generate {\n",
              "        background-color: #E8F0FE;\n",
              "        border: none;\n",
              "        border-radius: 50%;\n",
              "        cursor: pointer;\n",
              "        display: none;\n",
              "        fill: #1967D2;\n",
              "        height: 32px;\n",
              "        padding: 0 0 0 0;\n",
              "        width: 32px;\n",
              "      }\n",
              "\n",
              "      .colab-df-generate:hover {\n",
              "        background-color: #E2EBFA;\n",
              "        box-shadow: 0px 1px 2px rgba(60, 64, 67, 0.3), 0px 1px 3px 1px rgba(60, 64, 67, 0.15);\n",
              "        fill: #174EA6;\n",
              "      }\n",
              "\n",
              "      [theme=dark] .colab-df-generate {\n",
              "        background-color: #3B4455;\n",
              "        fill: #D2E3FC;\n",
              "      }\n",
              "\n",
              "      [theme=dark] .colab-df-generate:hover {\n",
              "        background-color: #434B5C;\n",
              "        box-shadow: 0px 1px 3px 1px rgba(0, 0, 0, 0.15);\n",
              "        filter: drop-shadow(0px 1px 2px rgba(0, 0, 0, 0.3));\n",
              "        fill: #FFFFFF;\n",
              "      }\n",
              "    </style>\n",
              "    <button class=\"colab-df-generate\" onclick=\"generateWithVariable('scraped_data')\"\n",
              "            title=\"Generate code using this dataframe.\"\n",
              "            style=\"display:none;\">\n",
              "\n",
              "  <svg xmlns=\"http://www.w3.org/2000/svg\" height=\"24px\"viewBox=\"0 0 24 24\"\n",
              "       width=\"24px\">\n",
              "    <path d=\"M7,19H8.4L18.45,9,17,7.55,7,17.6ZM5,21V16.75L18.45,3.32a2,2,0,0,1,2.83,0l1.4,1.43a1.91,1.91,0,0,1,.58,1.4,1.91,1.91,0,0,1-.58,1.4L9.25,21ZM18.45,9,17,7.55Zm-12,3A5.31,5.31,0,0,0,4.9,8.1,5.31,5.31,0,0,0,1,6.5,5.31,5.31,0,0,0,4.9,4.9,5.31,5.31,0,0,0,6.5,1,5.31,5.31,0,0,0,8.1,4.9,5.31,5.31,0,0,0,12,6.5,5.46,5.46,0,0,0,6.5,12Z\"/>\n",
              "  </svg>\n",
              "    </button>\n",
              "    <script>\n",
              "      (() => {\n",
              "      const buttonEl =\n",
              "        document.querySelector('#id_df56088c-e751-477c-ba0f-73e225e88db8 button.colab-df-generate');\n",
              "      buttonEl.style.display =\n",
              "        google.colab.kernel.accessAllowed ? 'block' : 'none';\n",
              "\n",
              "      buttonEl.onclick = () => {\n",
              "        google.colab.notebook.generateWithVariable('scraped_data');\n",
              "      }\n",
              "      })();\n",
              "    </script>\n",
              "  </div>\n",
              "\n",
              "    </div>\n",
              "  </div>\n"
            ],
            "application/vnd.google.colaboratory.intrinsic+json": {
              "type": "dataframe",
              "variable_name": "scraped_data",
              "summary": "{\n  \"name\": \"scraped_data\",\n  \"rows\": 6,\n  \"fields\": [\n    {\n      \"column\": \"url\",\n      \"properties\": {\n        \"dtype\": \"string\",\n        \"num_unique_values\": 6,\n        \"samples\": [\n          \"https://acso.gov.et/wp-content/uploads/2021/06/Federal-Negarit-Gazette-1113.pdf\",\n          \"http://laws.eag.gov.et/Upload/CassationDecisionsDocument/a3bf28be-a8c3-408f-8671-a9adebb3281f.pdf\",\n          \"http://www.moa.gov.et/wp-content/uploads/2024/07/Definition-of-Powers-and-Duties-of-the-Executive-Organs-Proclamation.pdf\"\n        ],\n        \"semantic_type\": \"\",\n        \"description\": \"\"\n      }\n    },\n    {\n      \"column\": \"scraper\",\n      \"properties\": {\n        \"dtype\": \"category\",\n        \"num_unique_values\": 1,\n        \"samples\": [\n          \"Biruk\"\n        ],\n        \"semantic_type\": \"\",\n        \"description\": \"\"\n      }\n    },\n    {\n      \"column\": \"timestamp\",\n      \"properties\": {\n        \"dtype\": \"date\",\n        \"min\": \"2025-04-11 10:32:02.433000+00:00\",\n        \"max\": \"2025-04-11 10:32:45.336000+00:00\",\n        \"num_unique_values\": 6,\n        \"samples\": [\n          \"2025-04-11 10:32:02.433000+00:00\"\n        ],\n        \"semantic_type\": \"\",\n        \"description\": \"\"\n      }\n    }\n  ]\n}"
            }
          },
          "metadata": {},
          "execution_count": 30
        }
      ]
    },
    {
      "cell_type": "code",
      "source": [
        "scrape([\"https://www.moj.gov.et/department/state-minister-for-governments-legal-and-justice-sector/legal-studies-drafting-and-consolidation-directorate-general/\"],\"Yonas Awoke\")"
      ],
      "metadata": {
        "id": "jJ4crMdPrP8K",
        "outputId": "4d122a48-9974-4b1c-f0c1-f1ea2fdae6e2",
        "colab": {
          "base_uri": "https://localhost:8080/"
        }
      },
      "execution_count": 31,
      "outputs": [
        {
          "output_type": "stream",
          "name": "stdout",
          "text": [
            "Processing: https://www.moj.gov.et/department/state-minister-for-governments-legal-and-justice-sector/legal-studies-drafting-and-consolidation-directorate-general/\n"
          ]
        },
        {
          "output_type": "stream",
          "name": "stderr",
          "text": [
            "/usr/local/lib/python3.11/dist-packages/google/cloud/firestore_v1/base_collection.py:303: UserWarning: Detected filter using positional arguments. Prefer using the 'filter' keyword argument instead.\n",
            "  return query.where(field_path, op_string, value)\n"
          ]
        },
        {
          "output_type": "stream",
          "name": "stdout",
          "text": [
            "⚠️ URL is already registered, skipping.\n"
          ]
        }
      ]
    },
    {
      "cell_type": "code",
      "source": [
        "scrape([\"https://www.fjli.gov.et/training.html\"],\"Yonas Awoke\")"
      ],
      "metadata": {
        "id": "EJyXhbGEuy3m",
        "outputId": "a0a11a61-4931-4fb8-bdfc-a51a99472b55",
        "colab": {
          "base_uri": "https://localhost:8080/"
        }
      },
      "execution_count": 32,
      "outputs": [
        {
          "output_type": "stream",
          "name": "stdout",
          "text": [
            "Processing: https://www.fjli.gov.et/training.html\n",
            "⚠️ URL is already registered, skipping.\n"
          ]
        }
      ]
    },
    {
      "cell_type": "markdown",
      "source": [
        "# **Lets visualize our scraping status**"
      ],
      "metadata": {
        "id": "goqE_mgEvrCU"
      }
    },
    {
      "cell_type": "code",
      "source": [
        "\n"
      ],
      "metadata": {
        "id": "JrzNzGcyvya4",
        "outputId": "14b5b88d-6558-4871-ac6e-f0ad4f41dd5b",
        "colab": {
          "base_uri": "https://localhost:8080/",
          "height": 521
        }
      },
      "execution_count": 69,
      "outputs": [
        {
          "output_type": "display_data",
          "data": {
            "text/plain": [
              "<Figure size 600x600 with 1 Axes>"
            ],
            "image/png": "[encoded data removed]"
          },
          "metadata": {}
        }
      ]
    },
    {
      "cell_type": "code",
      "source": [
        ""
      ],
      "metadata": {
        "id": "fvF_vGVwv76p",
        "outputId": "642f7ca2-0cb0-487b-ead3-420a4fdbc99a",
        "colab": {
          "base_uri": "https://localhost:8080/",
          "height": 141
        }
      },
      "execution_count": 35,
      "outputs": [
        {
          "output_type": "error",
          "ename": "NameError",
          "evalue": "name 'uscraped_data' is not defined",
          "traceback": [
            "\u001b[0;31m---------------------------------------------------------------------------\u001b[0m",
            "\u001b[0;31mNameError\u001b[0m                                 Traceback (most recent call last)",
            "\u001b[0;32m<ipython-input-35-efd849b84e16>\u001b[0m in \u001b[0;36m<cell line: 0>\u001b[0;34m()\u001b[0m\n\u001b[0;32m----> 1\u001b[0;31m \u001b[0muscraped_data\u001b[0m\u001b[0;34m.\u001b[0m\u001b[0mreason\u001b[0m\u001b[0;34m\u001b[0m\u001b[0;34m\u001b[0m\u001b[0m\n\u001b[0m",
            "\u001b[0;31mNameError\u001b[0m: name 'uscraped_data' is not defined"
          ]
        }
      ]
    },
    {
      "cell_type": "code",
      "source": [
        "simple_query=\"site:gov.et inurl:(pdf OR document) 'ትእዛዝ' OR 'የፌዴራል ሕጎች' OR 'የኢትዮጵያ ሕግ' OR 'ህጋዊ ሰነዶች' OR 'የፍርድ ውሳኔ' OR 'የህግ ባለሙያዎች' OR 'የህግ እትግታ'\"\n",
        "scraped,unscrape=get_report()\n",
        "scraped_data= pd.DataFrame(scraped)\n",
        "unscraped_data= pd.DataFrame(unscrape)\n",
        "\n",
        "urls = get_links_from_simple_search(simple_query)\n",
        "# Assuming scraped_data and unscraped_data are pandas DataFrames with a 'url' column\n",
        "filtered_urls = []\n",
        "for url in urls:\n",
        "    # Check if the URL is NOT in both scraped_data.url and unscraped_data.url\n",
        "    if url not in scraped_data['url'].values and url not in unscraped_data['url'].values:\n",
        "      filtered_urls.append(url)\n",
        "      print(\"not\")\n",
        ""
      ],
      "metadata": {
        "id": "TQh4uDQea-EC",
        "outputId": "d44d157e-1a1e-4018-e772-2467d769f51f",
        "colab": {
          "base_uri": "https://localhost:8080/"
        }
      },
      "execution_count": 76,
      "outputs": [
        {
          "output_type": "stream",
          "name": "stdout",
          "text": [
            "not\n"
          ]
        }
      ]
    },
    {
      "cell_type": "code",
      "source": [
        "print(filtered_urls)"
      ],
      "metadata": {
        "id": "-wfjYjMGgfQo",
        "outputId": "1e95ef7e-139c-42eb-8ef0-3419a4c2c1de",
        "colab": {
          "base_uri": "https://localhost:8080/"
        }
      },
      "execution_count": 77,
      "outputs": [
        {
          "output_type": "stream",
          "name": "stdout",
          "text": [
            "['']\n"
          ]
        }
      ]
    },
    {
      "cell_type": "markdown",
      "source": [],
      "metadata": {
        "id": "AS6cTHS7j_jp"
      }
    },
    {
      "cell_type": "code",
      "source": [
        "scrape(filtered_urls,\"Yonas Awoke\")"
      ],
      "metadata": {
        "id": "CGcTNaCSgiGh",
        "outputId": "e589ddee-5605-4817-fdb7-4964a9bb3624",
        "colab": {
          "base_uri": "https://localhost:8080/"
        }
      },
      "execution_count": 78,
      "outputs": [
        {
          "output_type": "stream",
          "name": "stdout",
          "text": [
            "Processing: \n",
            "Skipping invalid URL: \n"
          ]
        }
      ]
    },
    {
      "cell_type": "markdown",
      "source": [
        "# **Lets visualize our scraping status**"
      ],
      "metadata": {
        "id": "sYavEXkBkCsB"
      }
    },
    {
      "cell_type": "code",
      "source": [
        "import matplotlib.pyplot as plt\n",
        "\n",
        "# Example data for scraped and unscraped URLs (you should replace these with your actual data)\n",
        "scraped_urls = scraped_data.url\n",
        "unscraped_urls = unscraped_data.url\n",
        "\n",
        "# Calculate the number of scraped and unscraped URLs\n",
        "scraped_count = len(scraped_urls)\n",
        "unscraped_count = len(unscraped_urls)\n",
        "\n",
        "# Data for the pie chart\n",
        "labels = ['Scraped URLs', 'Unscraped URLs']\n",
        "sizes = [scraped_count, unscraped_count]\n",
        "colors = ['salmon', 'lightblue']  # Green for scraped, red for unscraped\n",
        "\n",
        "# Plot the pie chart\n",
        "plt.figure(figsize=(6, 6))\n",
        "plt.pie(sizes, labels=labels, colors=colors, autopct='%1.1f%%', startangle=140, wedgeprops={'edgecolor': 'black'})\n",
        "\n",
        "# Add a title\n",
        "plt.title('Distribution of Scraped vs Unscraped URLs')\n",
        "\n",
        "# Display the pie chart\n",
        "plt.axis('equal')  # Equal aspect ratio ensures that pie chart is circular\n",
        "plt.show()"
      ],
      "metadata": {
        "id": "g7Y_fbaDhvqL",
        "outputId": "fb89d1f5-910e-409e-9824-c6b1dc21ca95",
        "colab": {
          "base_uri": "https://localhost:8080/",
          "height": 521
        }
      },
      "execution_count": 82,
      "outputs": [
        {
          "output_type": "display_data",
          "data": {
            "text/plain": [
              "<Figure size 600x600 with 1 Axes>"
            ],
            "image/png": "[encoded data removed]"
          },
          "metadata": {}
        }
      ]
    },
    {
      "cell_type": "markdown",
      "source": [],
      "metadata": {
        "id": "xJ10im80j-a3"
      }
    },
    {
      "cell_type": "markdown",
      "source": [],
      "metadata": {
        "id": "N10kYUu9ls1I"
      }
    },
    {
      "cell_type": "markdown",
      "source": [],
      "metadata": {
        "id": "r9YOZ06XmTVR"
      }
    },
    {
      "cell_type": "code",
      "source": [
        "len(scraped_data.url), len(unscraped_data)"
      ],
      "metadata": {
        "id": "B7Vsp5SJgmVq",
        "outputId": "94b741ca-87ae-4eae-8b2b-d5956c741751",
        "colab": {
          "base_uri": "https://localhost:8080/"
        }
      },
      "execution_count": 81,
      "outputs": [
        {
          "output_type": "execute_result",
          "data": {
            "text/plain": [
              "(110, 151)"
            ]
          },
          "metadata": {},
          "execution_count": 81
        }
      ]
    },
    {
      "cell_type": "code",
      "source": [
        "scraped,unscrape=get_report()\n",
        "scraped_data= pd.DataFrame(scraped)\n",
        "unscraped_data= pd.DataFrame(unscrape)"
      ],
      "metadata": {
        "id": "tm1YIDsgkFz0"
      },
      "execution_count": 83,
      "outputs": []
    },
    {
      "cell_type": "code",
      "source": [
        "len(scraped_data.url), len(unscraped_data)"
      ],
      "metadata": {
        "id": "d06MEF7Ymh3x",
        "outputId": "5fdc046a-651a-41b1-a1ef-6acdd04b280f",
        "colab": {
          "base_uri": "https://localhost:8080/"
        }
      },
      "execution_count": 84,
      "outputs": [
        {
          "output_type": "execute_result",
          "data": {
            "text/plain": [
              "(110, 151)"
            ]
          },
          "metadata": {},
          "execution_count": 84
        }
      ]
    },
    {
      "cell_type": "code",
      "source": [
        "len(scraped_data[scraped_data.scraper == \"Abraham Dagne\"])\n"
      ],
      "metadata": {
        "id": "qiv38PE-mjXj",
        "outputId": "22989f40-b634-4814-c4df-715ae5be7c63",
        "colab": {
          "base_uri": "https://localhost:8080/"
        }
      },
      "execution_count": 87,
      "outputs": [
        {
          "output_type": "execute_result",
          "data": {
            "text/plain": [
              "49"
            ]
          },
          "metadata": {},
          "execution_count": 87
        }
      ]
    },
    {
      "cell_type": "code",
      "source": [],
      "metadata": {
        "id": "qz8f4nKUnMOz"
      },
      "execution_count": null,
      "outputs": []
    }
  ],
  "metadata": {
    "colab": {
      "provenance": []
    },
    "kernelspec": {
      "display_name": "Python 3",
      "name": "python3"
    },
    "language_info": {
      "name": "python"
    }
  },
  "nbformat": 4,
  "nbformat_minor": 0
}