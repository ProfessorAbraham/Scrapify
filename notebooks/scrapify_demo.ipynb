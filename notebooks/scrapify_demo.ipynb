{
  "cells": [
    {
      "cell_type": "markdown",
      "metadata": {
        "id": "j12YgYtdP9JK"
      },
      "source": [
        "# 🕸️ Scrapify\n",
        "\n",
        "<!-- [![Open In Colab](https://colab.research.google.com/assets/colab-badge.svg)](https://colab.research.google.com/github/YonaniCodes/Scrapify/blob/main/notebooks/scrapify-demo.ipynb) -->\n"
      ]
    },
    {
      "cell_type": "code",
      "execution_count": 1,
      "metadata": {
        "colab": {
          "base_uri": "https://localhost:8080/"
        },
        "id": "WFTPeEs3P9JN",
        "outputId": "1e262105-69a8-47f4-a514-ee00cda3f34c",
        "vscode": {
          "languageId": "plaintext"
        }
      },
      "outputs": [
        {
          "output_type": "stream",
          "name": "stdout",
          "text": [
            "/content/Scrapify\n",
            "No local changes to save\n",
            "Already up to date.\n",
            "Collecting asgiref==3.8.1 (from -r requirements.txt (line 1))\n",
            "  Using cached asgiref-3.8.1-py3-none-any.whl.metadata (9.3 kB)\n",
            "Collecting asttokens==2.4.1 (from -r requirements.txt (line 2))\n",
            "  Using cached asttokens-2.4.1-py2.py3-none-any.whl.metadata (5.2 kB)\n",
            "Collecting blinker==1.8.2 (from -r requirements.txt (line 3))\n",
            "  Using cached blinker-1.8.2-py3-none-any.whl.metadata (1.6 kB)\n",
            "Requirement already satisfied: CacheControl==0.14.2 in /usr/local/lib/python3.11/dist-packages (from -r requirements.txt (line 4)) (0.14.2)\n",
            "Requirement already satisfied: cachetools==5.5.2 in /usr/local/lib/python3.11/dist-packages (from -r requirements.txt (line 5)) (5.5.2)\n",
            "Collecting certifi==2024.8.30 (from -r requirements.txt (line 6))\n",
            "  Using cached certifi-2024.8.30-py3-none-any.whl.metadata (2.2 kB)\n",
            "Requirement already satisfied: cffi==1.17.1 in /usr/local/lib/python3.11/dist-packages (from -r requirements.txt (line 7)) (1.17.1)\n",
            "Requirement already satisfied: charset-normalizer==3.4.1 in /usr/local/lib/python3.11/dist-packages (from -r requirements.txt (line 8)) (3.4.1)\n",
            "Collecting click==8.1.7 (from -r requirements.txt (line 9))\n",
            "  Using cached click-8.1.7-py3-none-any.whl.metadata (3.0 kB)\n",
            "Collecting colorama==0.4.6 (from -r requirements.txt (line 10))\n",
            "  Using cached colorama-0.4.6-py2.py3-none-any.whl.metadata (17 kB)\n",
            "Collecting comm==0.2.2 (from -r requirements.txt (line 11))\n",
            "  Using cached comm-0.2.2-py3-none-any.whl.metadata (3.7 kB)\n",
            "Collecting contourpy==1.2.1 (from -r requirements.txt (line 12))\n",
            "  Using cached contourpy-1.2.1-cp311-cp311-manylinux_2_17_x86_64.manylinux2014_x86_64.whl.metadata (5.8 kB)\n",
            "Collecting cryptography==44.0.2 (from -r requirements.txt (line 13))\n",
            "  Using cached cryptography-44.0.2-cp39-abi3-manylinux_2_34_x86_64.whl.metadata (5.7 kB)\n",
            "Requirement already satisfied: cycler==0.12.1 in /usr/local/lib/python3.11/dist-packages (from -r requirements.txt (line 14)) (0.12.1)\n",
            "Collecting debugpy==1.8.1 (from -r requirements.txt (line 15))\n",
            "  Using cached debugpy-1.8.1-cp311-cp311-manylinux_2_17_x86_64.manylinux2014_x86_64.whl.metadata (1.1 kB)\n",
            "Collecting decorator==5.1.1 (from -r requirements.txt (line 16))\n",
            "  Using cached decorator-5.1.1-py3-none-any.whl.metadata (4.0 kB)\n",
            "Collecting distlib==0.3.9 (from -r requirements.txt (line 17))\n",
            "  Using cached distlib-0.3.9-py2.py3-none-any.whl.metadata (5.2 kB)\n",
            "Collecting Django==5.1.3 (from -r requirements.txt (line 18))\n",
            "  Using cached Django-5.1.3-py3-none-any.whl.metadata (4.2 kB)\n",
            "Collecting executing==2.0.1 (from -r requirements.txt (line 19))\n",
            "  Using cached executing-2.0.1-py2.py3-none-any.whl.metadata (9.0 kB)\n",
            "Collecting filelock==3.16.1 (from -r requirements.txt (line 20))\n",
            "  Using cached filelock-3.16.1-py3-none-any.whl.metadata (2.9 kB)\n",
            "Requirement already satisfied: firebase-admin==6.7.0 in /usr/local/lib/python3.11/dist-packages (from -r requirements.txt (line 21)) (6.7.0)\n",
            "Collecting Flask==3.0.3 (from -r requirements.txt (line 22))\n",
            "  Using cached flask-3.0.3-py3-none-any.whl.metadata (3.2 kB)\n",
            "Collecting fonttools==4.52.4 (from -r requirements.txt (line 23))\n",
            "  Using cached fonttools-4.52.4-cp311-cp311-manylinux_2_17_x86_64.manylinux2014_x86_64.whl.metadata (161 kB)\n",
            "Requirement already satisfied: google-api-core==2.24.2 in /usr/local/lib/python3.11/dist-packages (from -r requirements.txt (line 24)) (2.24.2)\n",
            "Collecting google-api-python-client==2.166.0 (from -r requirements.txt (line 25))\n",
            "  Using cached google_api_python_client-2.166.0-py2.py3-none-any.whl.metadata (6.6 kB)\n",
            "Requirement already satisfied: google-auth==2.38.0 in /usr/local/lib/python3.11/dist-packages (from -r requirements.txt (line 26)) (2.38.0)\n",
            "Requirement already satisfied: google-auth-httplib2==0.2.0 in /usr/local/lib/python3.11/dist-packages (from -r requirements.txt (line 27)) (0.2.0)\n",
            "Requirement already satisfied: google-cloud-core==2.4.3 in /usr/local/lib/python3.11/dist-packages (from -r requirements.txt (line 28)) (2.4.3)\n",
            "Requirement already satisfied: google-cloud-firestore==2.20.1 in /usr/local/lib/python3.11/dist-packages (from -r requirements.txt (line 29)) (2.20.1)\n",
            "Collecting google-cloud-storage==3.1.0 (from -r requirements.txt (line 30))\n",
            "  Using cached google_cloud_storage-3.1.0-py2.py3-none-any.whl.metadata (12 kB)\n",
            "Requirement already satisfied: google-crc32c==1.7.1 in /usr/local/lib/python3.11/dist-packages (from -r requirements.txt (line 31)) (1.7.1)\n",
            "Requirement already satisfied: google-resumable-media==2.7.2 in /usr/local/lib/python3.11/dist-packages (from -r requirements.txt (line 32)) (2.7.2)\n",
            "Requirement already satisfied: googleapis-common-protos==1.69.2 in /usr/local/lib/python3.11/dist-packages (from -r requirements.txt (line 33)) (1.69.2)\n",
            "Requirement already satisfied: grpcio==1.71.0 in /usr/local/lib/python3.11/dist-packages (from -r requirements.txt (line 34)) (1.71.0)\n",
            "Requirement already satisfied: grpcio-status==1.71.0 in /usr/local/lib/python3.11/dist-packages (from -r requirements.txt (line 35)) (1.71.0)\n",
            "Requirement already satisfied: httplib2==0.22.0 in /usr/local/lib/python3.11/dist-packages (from -r requirements.txt (line 36)) (0.22.0)\n",
            "Requirement already satisfied: idna==3.10 in /usr/local/lib/python3.11/dist-packages (from -r requirements.txt (line 37)) (3.10)\n",
            "Collecting ipykernel==6.29.4 (from -r requirements.txt (line 38))\n",
            "  Using cached ipykernel-6.29.4-py3-none-any.whl.metadata (6.3 kB)\n",
            "Collecting ipython==8.24.0 (from -r requirements.txt (line 39))\n",
            "  Using cached ipython-8.24.0-py3-none-any.whl.metadata (4.9 kB)\n",
            "Requirement already satisfied: itsdangerous==2.2.0 in /usr/local/lib/python3.11/dist-packages (from -r requirements.txt (line 40)) (2.2.0)\n",
            "Collecting jedi==0.19.1 (from -r requirements.txt (line 41))\n",
            "  Using cached jedi-0.19.1-py2.py3-none-any.whl.metadata (22 kB)\n",
            "Collecting Jinja2==3.1.4 (from -r requirements.txt (line 42))\n",
            "  Using cached jinja2-3.1.4-py3-none-any.whl.metadata (2.6 kB)\n",
            "Requirement already satisfied: joblib==1.4.2 in /usr/local/lib/python3.11/dist-packages (from -r requirements.txt (line 43)) (1.4.2)\n",
            "Collecting jupyter_client==8.6.2 (from -r requirements.txt (line 44))\n",
            "  Using cached jupyter_client-8.6.2-py3-none-any.whl.metadata (8.3 kB)\n",
            "Requirement already satisfied: jupyter_core==5.7.2 in /usr/local/lib/python3.11/dist-packages (from -r requirements.txt (line 45)) (5.7.2)\n",
            "Collecting kiwisolver==1.4.5 (from -r requirements.txt (line 46))\n",
            "  Using cached kiwisolver-1.4.5-cp311-cp311-manylinux_2_17_x86_64.manylinux2014_x86_64.whl.metadata (6.4 kB)\n",
            "Collecting MarkupSafe==2.1.5 (from -r requirements.txt (line 47))\n",
            "  Using cached MarkupSafe-2.1.5-cp311-cp311-manylinux_2_17_x86_64.manylinux2014_x86_64.whl.metadata (3.0 kB)\n",
            "Collecting matplotlib==3.9.0 (from -r requirements.txt (line 48))\n",
            "  Using cached matplotlib-3.9.0-cp311-cp311-manylinux_2_17_x86_64.manylinux2014_x86_64.whl.metadata (11 kB)\n",
            "Requirement already satisfied: matplotlib-inline==0.1.7 in /usr/local/lib/python3.11/dist-packages (from -r requirements.txt (line 49)) (0.1.7)\n",
            "Requirement already satisfied: msgpack==1.1.0 in /usr/local/lib/python3.11/dist-packages (from -r requirements.txt (line 50)) (1.1.0)\n",
            "Requirement already satisfied: nest-asyncio==1.6.0 in /usr/local/lib/python3.11/dist-packages (from -r requirements.txt (line 51)) (1.6.0)\n",
            "Collecting numpy==1.26.4 (from -r requirements.txt (line 52))\n",
            "  Using cached numpy-1.26.4-cp311-cp311-manylinux_2_17_x86_64.manylinux2014_x86_64.whl.metadata (61 kB)\n",
            "Collecting packaging==24.0 (from -r requirements.txt (line 53))\n",
            "  Using cached packaging-24.0-py3-none-any.whl.metadata (3.2 kB)\n",
            "Requirement already satisfied: pandas==2.2.2 in /usr/local/lib/python3.11/dist-packages (from -r requirements.txt (line 54)) (2.2.2)\n",
            "Requirement already satisfied: parso==0.8.4 in /usr/local/lib/python3.11/dist-packages (from -r requirements.txt (line 55)) (0.8.4)\n",
            "Collecting pdf2image==1.17.0 (from -r requirements.txt (line 56))\n",
            "  Using cached pdf2image-1.17.0-py3-none-any.whl.metadata (6.2 kB)\n",
            "Collecting pillow==10.3.0 (from -r requirements.txt (line 57))\n",
            "  Using cached pillow-10.3.0-cp311-cp311-manylinux_2_28_x86_64.whl.metadata (9.2 kB)\n",
            "Collecting pipenv==2024.4.0 (from -r requirements.txt (line 58))\n",
            "  Using cached pipenv-2024.4.0-py3-none-any.whl.metadata (19 kB)\n",
            "Collecting platformdirs==4.2.2 (from -r requirements.txt (line 59))\n",
            "  Using cached platformdirs-4.2.2-py3-none-any.whl.metadata (11 kB)\n",
            "Collecting prompt_toolkit==3.0.45 (from -r requirements.txt (line 60))\n",
            "  Using cached prompt_toolkit-3.0.45-py3-none-any.whl.metadata (6.4 kB)\n",
            "Requirement already satisfied: proto-plus==1.26.1 in /usr/local/lib/python3.11/dist-packages (from -r requirements.txt (line 61)) (1.26.1)\n",
            "Requirement already satisfied: protobuf==5.29.4 in /usr/local/lib/python3.11/dist-packages (from -r requirements.txt (line 62)) (5.29.4)\n",
            "Collecting psutil==5.9.8 (from -r requirements.txt (line 63))\n",
            "  Using cached psutil-5.9.8-cp36-abi3-manylinux_2_12_x86_64.manylinux2010_x86_64.manylinux_2_17_x86_64.manylinux2014_x86_64.whl.metadata (21 kB)\n",
            "Collecting pure-eval==0.2.2 (from -r requirements.txt (line 64))\n",
            "  Using cached pure_eval-0.2.2-py3-none-any.whl.metadata (6.2 kB)\n",
            "Requirement already satisfied: pyasn1==0.6.1 in /usr/local/lib/python3.11/dist-packages (from -r requirements.txt (line 65)) (0.6.1)\n",
            "Requirement already satisfied: pyasn1_modules==0.4.2 in /usr/local/lib/python3.11/dist-packages (from -r requirements.txt (line 66)) (0.4.2)\n",
            "Requirement already satisfied: pycparser==2.22 in /usr/local/lib/python3.11/dist-packages (from -r requirements.txt (line 67)) (2.22)\n",
            "Requirement already satisfied: Pygments==2.18.0 in /usr/local/lib/python3.11/dist-packages (from -r requirements.txt (line 68)) (2.18.0)\n",
            "Requirement already satisfied: PyJWT==2.10.1 in /usr/local/lib/python3.11/dist-packages (from -r requirements.txt (line 69)) (2.10.1)\n",
            "Collecting pyparsing==3.1.2 (from -r requirements.txt (line 70))\n",
            "  Using cached pyparsing-3.1.2-py3-none-any.whl.metadata (5.1 kB)\n",
            "Collecting pytesseract==0.3.13 (from -r requirements.txt (line 71))\n",
            "  Using cached pytesseract-0.3.13-py3-none-any.whl.metadata (11 kB)\n",
            "Collecting python-dateutil==2.9.0.post0 (from -r requirements.txt (line 72))\n",
            "  Using cached python_dateutil-2.9.0.post0-py2.py3-none-any.whl.metadata (8.4 kB)\n",
            "Collecting pytz==2024.1 (from -r requirements.txt (line 73))\n",
            "  Using cached pytz-2024.1-py2.py3-none-any.whl.metadata (22 kB)\n",
            "\u001b[31mERROR: Ignored the following versions that require a different python version: 1.21.2 Requires-Python >=3.7,<3.11; 1.21.3 Requires-Python >=3.7,<3.11; 1.21.4 Requires-Python >=3.7,<3.11; 1.21.5 Requires-Python >=3.7,<3.11; 1.21.6 Requires-Python >=3.7,<3.11\u001b[0m\u001b[31m\n",
            "\u001b[0m\u001b[31mERROR: Could not find a version that satisfies the requirement pywin32==306 (from versions: none)\u001b[0m\u001b[31m\n",
            "\u001b[0m\u001b[31mERROR: No matching distribution found for pywin32==306\u001b[0m\u001b[31m\n",
            "\u001b[0mRequirement already satisfied: PyMuPDF in /usr/local/lib/python3.11/dist-packages (1.25.5)\n"
          ]
        }
      ],
      "source": [
        "import sys\n",
        "import os\n",
        "\n",
        "# Verify we're running in Colab - exit if not\n",
        "try:\n",
        "    import google.colab\n",
        "except ImportError:\n",
        "    raise RuntimeError(\"This script is designed to run only in Google Colab\")\n",
        "\n",
        "# Define repo details\n",
        "repo_url = \"https://github.com/YonaniCodes/Scrapify.git\"\n",
        "repo_path = \"/content/Scrapify\"\n",
        "\n",
        "# Clone or update the repository\n",
        "if not os.path.exists(repo_path):\n",
        "    !git clone {repo_url} {repo_path}\n",
        "else:\n",
        "    %cd {repo_path}\n",
        "    !git stash  # Stash any local changes\n",
        "    !git pull\n",
        "\n",
        "# Add src/ to Python path\n",
        "sys.path.append(f\"{repo_path}/src\")\n",
        "\n",
        "# Import the scraper function (replace with actual import)\n",
        "# from scraper_module import scrape_function\n",
        "!pip install -r requirements.txt\n",
        "!pip install PyMuPDF\n",
        ""
      ]
    },
    {
      "cell_type": "code",
      "execution_count": 2,
      "metadata": {
        "colab": {
          "base_uri": "https://localhost:8080/"
        },
        "id": "Mb06iS-9l99j",
        "outputId": "2c881d5a-67f2-4006-d8dd-ec6b7cd229b2"
      },
      "outputs": [
        {
          "output_type": "stream",
          "name": "stdout",
          "text": [
            "Everything is ready you can start working 🎉🎉🎉🎉\n"
          ]
        }
      ],
      "source": [
        "import subprocess\n",
        "\n",
        "# Get output of ls command\n",
        "output = subprocess.check_output(\"ls\", shell=True).decode().splitlines()\n",
        "\n",
        "# Now you can conditionally check\n",
        "if \"firebase-adminsdk.json\" in output:\n",
        "    print(\"Everything is ready you can start working 🎉🎉🎉🎉\")\n",
        "else:\n",
        "    print(\"firebase-adminsdk.json not found.😒😒😒 please ask Yonani for the file\")"
      ]
    },
    {
      "cell_type": "code",
      "execution_count": 3,
      "metadata": {
        "id": "oaUyoeqXm6hX"
      },
      "outputs": [],
      "source": [
        "import sys\n",
        "sys.path.append('/content/Scrapify/src')"
      ]
    },
    {
      "cell_type": "code",
      "source": [
        "from scrapify import scrape\n",
        "from scrapify import get_report\n",
        "from preprocessing import normalize_amharic\n",
        "\n",
        "import pandas as pd"
      ],
      "metadata": {
        "id": "S2FG4Do4UihW"
      },
      "execution_count": 15,
      "outputs": []
    },
    {
      "cell_type": "markdown",
      "source": [
        "## Steps to Scrape a website\n",
        "\n",
        "1. Install the  `googlesearch-python` module\n",
        "2. Define a function that takes two arguments `num_urls` and `search_query`. and return list of urls\n",
        "3. call the `scrape` method by passing list of `urls` and `your_name` as a second paramete (optional)."
      ],
      "metadata": {
        "id": "M06ZSYp4CZ7D"
      }
    },
    {
      "cell_type": "code",
      "source": [
        "!pip install googlesearch-python"
      ],
      "metadata": {
        "id": "xn35piLXV9CZ",
        "colab": {
          "base_uri": "https://localhost:8080/"
        },
        "outputId": "cc5b4159-64d7-4919-c66b-93ea8dc2b032"
      },
      "execution_count": 5,
      "outputs": [
        {
          "output_type": "stream",
          "name": "stdout",
          "text": [
            "Requirement already satisfied: googlesearch-python in /usr/local/lib/python3.11/dist-packages (1.3.0)\n",
            "Requirement already satisfied: beautifulsoup4>=4.9 in /usr/local/lib/python3.11/dist-packages (from googlesearch-python) (4.13.3)\n",
            "Requirement already satisfied: requests>=2.20 in /usr/local/lib/python3.11/dist-packages (from googlesearch-python) (2.32.3)\n",
            "Requirement already satisfied: soupsieve>1.2 in /usr/local/lib/python3.11/dist-packages (from beautifulsoup4>=4.9->googlesearch-python) (2.6)\n",
            "Requirement already satisfied: typing-extensions>=4.0.0 in /usr/local/lib/python3.11/dist-packages (from beautifulsoup4>=4.9->googlesearch-python) (4.13.1)\n",
            "Requirement already satisfied: charset-normalizer<4,>=2 in /usr/local/lib/python3.11/dist-packages (from requests>=2.20->googlesearch-python) (3.4.1)\n",
            "Requirement already satisfied: idna<4,>=2.5 in /usr/local/lib/python3.11/dist-packages (from requests>=2.20->googlesearch-python) (3.10)\n",
            "Requirement already satisfied: urllib3<3,>=1.21.1 in /usr/local/lib/python3.11/dist-packages (from requests>=2.20->googlesearch-python) (2.3.0)\n",
            "Requirement already satisfied: certifi>=2017.4.17 in /usr/local/lib/python3.11/dist-packages (from requests>=2.20->googlesearch-python) (2025.1.31)\n"
          ]
        }
      ]
    },
    {
      "cell_type": "code",
      "source": [
        "from googlesearch import search\n",
        "\n",
        "def get_links_from_simple_search(query, num_results):\n",
        "    \"\"\"\n",
        "    Retrieves URLs from a simple Google search.\n",
        "\n",
        "    Args:\n",
        "        query (str): The search query.\n",
        "        num_results (int): The desired number of search results. This is not directly supported by googlesearch,\n",
        "                          so it will be used to limit the results after fetching.\n",
        "\n",
        "    Returns:\n",
        "        list: A list of URLs.\n",
        "    \"\"\"\n",
        "    # Fetch the search results\n",
        "    search_results = search(query, num_results=num_results)\n",
        "    # Convert the generator object to a list\n",
        "    urls = list(set(search_results))\n",
        "    return urls"
      ],
      "metadata": {
        "id": "5MFk1o0VdjyO"
      },
      "execution_count": 13,
      "outputs": []
    },
    {
      "cell_type": "markdown",
      "source": [
        "We need a function to filter if the url is already scraped we dont wanna send reques to our backend everyurl that is returned by the function `get_links_from_simple_search`"
      ],
      "metadata": {
        "id": "EqbPfI4oEVAN"
      }
    },
    {
      "cell_type": "code",
      "source": [
        "def filter_url(urls):\n",
        "# Assuming scraped_data and unscraped_data are pandas DataFrames with a 'url' column\n",
        "  scraped,unscrape=get_report()\n",
        "  scraped_data= pd.DataFrame(scraped)\n",
        "  unscraped_data= pd.DataFrame(unscrape)\n",
        "  filtered_urls = []\n",
        "  for url in urls:\n",
        "      # Check if the URL is NOT in both scraped_data.url and unscraped_data.url\n",
        "      if url not in scraped_data['url'].values and url not in unscraped_data['url'].values:\n",
        "          filtered_urls.append(url)\n",
        "  return filtered_urls"
      ],
      "metadata": {
        "id": "WMG-PyJyEzZl"
      },
      "execution_count": 7,
      "outputs": []
    },
    {
      "cell_type": "code",
      "source": [
        "simple_query = 'site:gov.et filetype:pdf \"አካባቢ ግንባታ\" OR \"አካባቢ መረጃ\" OR \"ሕግ ስርዓት\" OR \"የግል ተቋማት\" OR \"አስተዳደር ስርዓት\" OR \"የመንግስት ትእዛዝ\" OR \"የትእዛዝ ቁጥር\" OR \"የፌዴራል መብት\" OR \"የአካባቢ መንግሥት\"'\n",
        "urls = get_links_from_simple_search(simple_query, 100)\n",
        "filtered_urls = filter_url(urls)\n",
        "# scrape(filtered_urls, \"Yonas Awoke\")\n",
        "\n"
      ],
      "metadata": {
        "id": "FkuAgGAxiGfp"
      },
      "execution_count": 16,
      "outputs": []
    },
    {
      "cell_type": "markdown",
      "source": [
        "# **Lets visualize our scraping status**"
      ],
      "metadata": {
        "id": "sYavEXkBkCsB"
      }
    },
    {
      "cell_type": "code",
      "source": [
        "import matplotlib.pyplot as plt\n",
        "import pandas as pd\n",
        "\n",
        "def plot_scraping_report():\n",
        "    \"\"\"\n",
        "    Generate a pie chart showing the ratio of scraped to unscraped URLs.\n",
        "    Uses get_report() internally to fetch the data.\n",
        "    \"\"\"\n",
        "    # Get the data\n",
        "    scraped, unscraped = get_report()\n",
        "\n",
        "    # Convert to DataFrames\n",
        "    scraped_data = pd.DataFrame(scraped)\n",
        "    unscraped_data = pd.DataFrame(unscraped)\n",
        "\n",
        "    # Calculate counts\n",
        "    scraped_count = len(scraped_data['url'])\n",
        "    unscraped_count = len(unscraped_data['url'])\n",
        "\n",
        "    # Prepare data for visualization\n",
        "    labels = ['Scraped URLs', 'Unscraped URLs']\n",
        "    sizes = [scraped_count, unscraped_count]\n",
        "    colors = ['salmon', 'lightblue']  # Green and red\n",
        "\n",
        "    # Create the figure\n",
        "    fig, ax = plt.subplots(figsize=(6, 6))\n",
        "    ax.pie(sizes,\n",
        "           labels=labels,\n",
        "           colors=colors,\n",
        "           autopct=lambda p: f'{p:.1f}%\\n({int(p/100*sum(sizes))})',\n",
        "           startangle=90,\n",
        "           wedgeprops={'linewidth': 1, 'edgecolor': 'white'},\n",
        "           textprops={'fontsize': 12})\n",
        "\n",
        "    ax.set_title('Scraping Report: Scraped vs Unscraped URLs', pad=20, fontsize=14)\n",
        "    plt.tight_layout()\n",
        "\n",
        "\n"
      ],
      "metadata": {
        "id": "g7Y_fbaDhvqL"
      },
      "execution_count": 17,
      "outputs": []
    },
    {
      "cell_type": "code",
      "source": [
        "# Example usage:\n",
        "plot_scraping_report()"
      ],
      "metadata": {
        "colab": {
          "base_uri": "https://localhost:8080/",
          "height": 472
        },
        "id": "GotGbA9_HMfT",
        "outputId": "74e51e00-9c88-4f36-c606-e6124fd20f8c"
      },
      "execution_count": 18,
      "outputs": [
        {
          "output_type": "display_data",
          "data": {
            "text/plain": [
              "<Figure size 600x600 with 1 Axes>"
            ],
            "image/png": "[encoded data removed]"
          },
          "metadata": {}
        }
      ]
    },
    {
      "cell_type": "markdown",
      "source": [
        "### Normalizing our data"
      ],
      "metadata": {
        "id": "rKge09SIHms3"
      }
    },
    {
      "cell_type": "markdown",
      "source": [
        "How to normalize data?\n",
        "\n",
        "1. define the path the jsonl file is found as variable\n",
        "2. define the path you want to store the normaliez text file\n",
        "3. call the function `normalize_jsonl_file  ` with the two parameters"
      ],
      "metadata": {
        "id": "vb4nqKYuatEy"
      }
    },
    {
      "cell_type": "code",
      "source": [
        "# let's test our data so that\n",
        "\n",
        "\n",
        "test_string = \"\"\"\n",
        "ሀሁሂሃሄህሆ  # Basic ሀ family\n",
        "ሐሑሒሓሔሕሖ  # �ሐ → ሀ variants\n",
        "ኀኁኂኃኄኅኆ  # ኀ → ሀ variants\n",
        "ኹኺኻኼኽኾ    # ኹ → ሁ variants\n",
        "ሠሡሢሣሤሥሦ  # ሠ → ሰ variants\n",
        "ዐዑዒዓዔዕዖ  # ዐ → አ variants\n",
        "ጸጹጺጻጼጽጾ  # ጸ → ፀ variants\n",
        "\n",
        "Punctuation Tests:\n",
        "Newlines\\nand\\t tabs\n",
        "Double colons:: ። Amharic period\n",
        "Multiple spaces   between   words\n",
        "\n",
        "Number Tests (Western): 1234567890\n",
        "Number Tests (Eastern): ١٢٣٤٥٦٧٨٩٠\n",
        "\n",
        "Edge Cases:\n",
        "Empty string: ''\n",
        "Mixed variants: ሐኀሠዐጸ in one word\n",
        "\"\"\"\n",
        "\n",
        "# Test the function in Colab\n",
        "normalized_text = normalize(test_string)\n",
        "print(\"Original:\\n\", test_string)\n",
        "print(\"\\nNormalized:\\n\", normalized_text)"
      ],
      "metadata": {
        "colab": {
          "base_uri": "https://localhost:8080/"
        },
        "id": "NH04AkdEHtp4",
        "outputId": "131ef453-cca5-4d78-fc10-30b4168e9042"
      },
      "execution_count": 19,
      "outputs": [
        {
          "output_type": "stream",
          "name": "stdout",
          "text": [
            "Original:\n",
            " \n",
            "ሀሁሂሃሄህሆ  # Basic ሀ family\n",
            "ሐሑሒሓሔሕሖ  # �ሐ → ሀ variants\n",
            "ኀኁኂኃኄኅኆ  # ኀ → ሀ variants\n",
            "ኹኺኻኼኽኾ    # ኹ → ሁ variants\n",
            "ሠሡሢሣሤሥሦ  # ሠ → ሰ variants\n",
            "ዐዑዒዓዔዕዖ  # ዐ → አ variants\n",
            "ጸጹጺጻጼጽጾ  # ጸ → ፀ variants\n",
            "\n",
            "Punctuation Tests:\n",
            "Newlines\n",
            "and\t tabs\n",
            "Double colons:: ። Amharic period\n",
            "Multiple spaces   between   words\n",
            "\n",
            "Number Tests (Western): 1234567890\n",
            "Number Tests (Eastern): ١٢٣٤٥٦٧٨٩٠\n",
            "\n",
            "Edge Cases:\n",
            "Empty string: ''\n",
            "Mixed variants: ሐኀሠዐጸ in one word\n",
            "\n",
            "\n",
            "Normalized:\n",
            "  ሀሁሂሃሄህሆ  # Basic ሀ family ሀሁሂሃሄህሆ  # �ሀ → ሀ variants ሀሁሂሃሄህሆ  # ሀ → ሀ variants ሁሂሃሄህሆ    # ሁ → ሁ variants ሰሱሲሳሴስሶ  # ሰ → ሰ variants አኡኢኣኤእኦ  # አ → አ variants ፀፁፂፃፄፅፆ  # ፀ → ፀ variants  Punctuation Tests: Newlines and\t tabs Double colons። ። Amharic period Multiple spaces   between   words  Number Tests (Western): 1234567890 Number Tests (Eastern): ١٢٣٤٥٦٧٨٩٠  Edge Cases: Empty string: '' Mixed variants: ሀሀሰአፀ in one word \n"
          ]
        }
      ]
    },
    {
      "cell_type": "code",
      "source": [
        "import json\n",
        "\n",
        "def read_jsonl_content(file_path, content_key='content'):\n",
        "    \"\"\"Returns a list of 'content' values from a .jsonl file.\"\"\"\n",
        "    content_values = []\n",
        "    with open(file_path, 'r', encoding='utf-8') as file:\n",
        "        for line in file:\n",
        "            stripped_line = line.strip()\n",
        "            if stripped_line:\n",
        "                record = json.loads(stripped_line)\n",
        "                content_values.append(record[content_key])\n",
        "\n",
        "    print(f\"Read {len(content_values)} records from {file_path}.\")\n",
        "    return content_values  # Example: [\"text1\", \"text2\", ...]"
      ],
      "metadata": {
        "id": "GkkamYUqI2q6"
      },
      "execution_count": 26,
      "outputs": []
    },
    {
      "cell_type": "code",
      "source": [
        "def normalize_and_save_data(jsonl_data, file_path):\n",
        "    \"\"\"Writes all JSONL entries as one continuous text blob.\"\"\"\n",
        "    with open(file_path, 'w', encoding='utf-8') as f:\n",
        "        all_text = \" \".join(normalize(text) for text in jsonl_data)  # No newlines\n",
        "        f.write(all_text)"
      ],
      "metadata": {
        "id": "MCszEdIzKC1k"
      },
      "execution_count": 21,
      "outputs": []
    },
    {
      "cell_type": "code",
      "source": [
        "def normalize_jsonl_file(input_file, output_file):\n",
        "  jsonl_data=read_jsonl_content(test_file_path)\n",
        "  normalize_and_save_data(jsonl_data, destination_file_path)"
      ],
      "metadata": {
        "id": "JIbdpNkNQRhQ"
      },
      "execution_count": 24,
      "outputs": []
    },
    {
      "cell_type": "code",
      "source": [
        "test_file_path = '/content/Scrapify/extracted_data.jsonl'\n",
        "destination_file_path = '/content/Scrapify/normalized.txt'\n",
        "\n",
        "normalize_jsonl_file(test_file_path, destination_file_path)\n",
        ""
      ],
      "metadata": {
        "colab": {
          "base_uri": "https://localhost:8080/"
        },
        "id": "im0UOg_aQcuo",
        "outputId": "6bda5df3-01f2-4436-9f1e-2fb5aca2fef3"
      },
      "execution_count": 27,
      "outputs": [
        {
          "output_type": "stream",
          "name": "stdout",
          "text": [
            "Read 5 records from /content/Scrapify/extracted_data.jsonl.\n"
          ]
        }
      ]
    },
    {
      "cell_type": "code",
      "source": [],
      "metadata": {
        "id": "kbMM-a6hRAgn"
      },
      "execution_count": null,
      "outputs": []
    }
  ],
  "metadata": {
    "colab": {
      "provenance": []
    },
    "kernelspec": {
      "display_name": "Python 3",
      "name": "python3"
    },
    "language_info": {
      "name": "python"
    }
  },
  "nbformat": 4,
  "nbformat_minor": 0
}