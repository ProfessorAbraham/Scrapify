{
  "cells": [
    {
      "cell_type": "markdown",
      "metadata": {
        "id": "j12YgYtdP9JK"
      },
      "source": [
        "# 🕸️ Scrapify\n",
        "\n",
        "<!-- [![Open In Colab](https://colab.research.google.com/assets/colab-badge.svg)](https://colab.research.google.com/github/YonaniCodes/Scrapify/blob/main/notebooks/scrapify-demo.ipynb) -->\n"
      ]
    },
    {
      "cell_type": "code",
      "execution_count": 32,
      "metadata": {
        "colab": {
          "base_uri": "https://localhost:8080/"
        },
        "id": "WFTPeEs3P9JN",
        "outputId": "8597a3d0-3bae-4c18-9d19-bd002e58ea72",
        "vscode": {
          "languageId": "plaintext"
        }
      },
      "outputs": [
        {
          "output_type": "stream",
          "name": "stdout",
          "text": [
            "/content/Scrapify\n",
            "No local changes to save\n",
            "Already up to date.\n"
          ]
        }
      ],
      "source": [
        "import sys\n",
        "import os\n",
        "import re\n",
        "\n",
        "# Check if running in Colab\n",
        "try:\n",
        "    import google.colab\n",
        "    IN_COLAB = True\n",
        "except ImportError:\n",
        "    IN_COLAB = False\n",
        "\n",
        "# Define repo path\n",
        "repo_url = \"https://github.com/YonaniCodes/Scrapify.git\"\n",
        "repo_path = \"/content/Scrapify\"\n",
        "\n",
        "if IN_COLAB:\n",
        "    # Clone the repo only if it doesn't exist\n",
        "    if not os.path.exists(repo_path):\n",
        "        !git clone {repo_url} {repo_path}\n",
        "    else:\n",
        "        # Go into the repo and pull the latest changes\n",
        "        %cd {repo_path}\n",
        "\n",
        "        # Stash local changes if necessary to avoid conflicts with the pull\n",
        "        !git stash\n",
        "        !git pull\n",
        "\n",
        "\n",
        "    # Add src/ to sys.path\n",
        "    sys.path.append(f\"{repo_path}/src\")\n",
        "else:\n",
        "    # Local path config for non-Colab environment\n",
        "    local_src_path = os.path.abspath(\"../src\")\n",
        "    sys.path.append(local_src_path)\n",
        "\n",
        "# Import the scraper function from the module\n",
        "\n",
        "\n",
        "# Call the scrape function (this will print \"Scraping..........\")\n",
        "\n"
      ]
    },
    {
      "cell_type": "code",
      "execution_count": 33,
      "metadata": {
        "colab": {
          "base_uri": "https://localhost:8080/"
        },
        "id": "7mHBeY02j0Qr",
        "outputId": "a730fd52-eadb-4314-f159-d19149024849"
      },
      "outputs": [
        {
          "output_type": "stream",
          "name": "stdout",
          "text": [
            "firebase-adminsdk.json\tLICENSE  notebooks  README.md  requirements.txt  src\n"
          ]
        }
      ],
      "source": [
        "!ls\n"
      ]
    },
    {
      "cell_type": "code",
      "execution_count": 42,
      "metadata": {
        "colab": {
          "base_uri": "https://localhost:8080/"
        },
        "id": "rqqekac2l0DP",
        "outputId": "e47a7cd0-a194-45bb-9e5a-e5e98052ef5e"
      },
      "outputs": [
        {
          "output_type": "stream",
          "name": "stdout",
          "text": [
            "Collecting asgiref==3.8.1 (from -r requirements.txt (line 1))\n",
            "  Using cached asgiref-3.8.1-py3-none-any.whl.metadata (9.3 kB)\n",
            "Collecting asttokens==2.4.1 (from -r requirements.txt (line 2))\n",
            "  Using cached asttokens-2.4.1-py2.py3-none-any.whl.metadata (5.2 kB)\n",
            "Collecting blinker==1.8.2 (from -r requirements.txt (line 3))\n",
            "  Using cached blinker-1.8.2-py3-none-any.whl.metadata (1.6 kB)\n",
            "Requirement already satisfied: CacheControl==0.14.2 in /usr/local/lib/python3.11/dist-packages (from -r requirements.txt (line 4)) (0.14.2)\n",
            "Requirement already satisfied: cachetools==5.5.2 in /usr/local/lib/python3.11/dist-packages (from -r requirements.txt (line 5)) (5.5.2)\n",
            "Collecting certifi==2024.8.30 (from -r requirements.txt (line 6))\n",
            "  Using cached certifi-2024.8.30-py3-none-any.whl.metadata (2.2 kB)\n",
            "Requirement already satisfied: cffi==1.17.1 in /usr/local/lib/python3.11/dist-packages (from -r requirements.txt (line 7)) (1.17.1)\n",
            "Requirement already satisfied: charset-normalizer==3.4.1 in /usr/local/lib/python3.11/dist-packages (from -r requirements.txt (line 8)) (3.4.1)\n",
            "Collecting click==8.1.7 (from -r requirements.txt (line 9))\n",
            "  Using cached click-8.1.7-py3-none-any.whl.metadata (3.0 kB)\n",
            "Collecting colorama==0.4.6 (from -r requirements.txt (line 10))\n",
            "  Using cached colorama-0.4.6-py2.py3-none-any.whl.metadata (17 kB)\n",
            "Collecting comm==0.2.2 (from -r requirements.txt (line 11))\n",
            "  Using cached comm-0.2.2-py3-none-any.whl.metadata (3.7 kB)\n",
            "Collecting contourpy==1.2.1 (from -r requirements.txt (line 12))\n",
            "  Using cached contourpy-1.2.1-cp311-cp311-manylinux_2_17_x86_64.manylinux2014_x86_64.whl.metadata (5.8 kB)\n",
            "Collecting cryptography==44.0.2 (from -r requirements.txt (line 13))\n",
            "  Using cached cryptography-44.0.2-cp39-abi3-manylinux_2_34_x86_64.whl.metadata (5.7 kB)\n",
            "Requirement already satisfied: cycler==0.12.1 in /usr/local/lib/python3.11/dist-packages (from -r requirements.txt (line 14)) (0.12.1)\n",
            "Collecting debugpy==1.8.1 (from -r requirements.txt (line 15))\n",
            "  Using cached debugpy-1.8.1-cp311-cp311-manylinux_2_17_x86_64.manylinux2014_x86_64.whl.metadata (1.1 kB)\n",
            "Collecting decorator==5.1.1 (from -r requirements.txt (line 16))\n",
            "  Using cached decorator-5.1.1-py3-none-any.whl.metadata (4.0 kB)\n",
            "Collecting distlib==0.3.9 (from -r requirements.txt (line 17))\n",
            "  Using cached distlib-0.3.9-py2.py3-none-any.whl.metadata (5.2 kB)\n",
            "Collecting Django==5.1.3 (from -r requirements.txt (line 18))\n",
            "  Using cached Django-5.1.3-py3-none-any.whl.metadata (4.2 kB)\n",
            "Collecting executing==2.0.1 (from -r requirements.txt (line 19))\n",
            "  Using cached executing-2.0.1-py2.py3-none-any.whl.metadata (9.0 kB)\n",
            "Collecting filelock==3.16.1 (from -r requirements.txt (line 20))\n",
            "  Using cached filelock-3.16.1-py3-none-any.whl.metadata (2.9 kB)\n",
            "Requirement already satisfied: firebase-admin==6.7.0 in /usr/local/lib/python3.11/dist-packages (from -r requirements.txt (line 21)) (6.7.0)\n",
            "Collecting Flask==3.0.3 (from -r requirements.txt (line 22))\n",
            "  Using cached flask-3.0.3-py3-none-any.whl.metadata (3.2 kB)\n",
            "Collecting fonttools==4.52.4 (from -r requirements.txt (line 23))\n",
            "  Using cached fonttools-4.52.4-cp311-cp311-manylinux_2_17_x86_64.manylinux2014_x86_64.whl.metadata (161 kB)\n",
            "Requirement already satisfied: google-api-core==2.24.2 in /usr/local/lib/python3.11/dist-packages (from -r requirements.txt (line 24)) (2.24.2)\n",
            "Collecting google-api-python-client==2.166.0 (from -r requirements.txt (line 25))\n",
            "  Using cached google_api_python_client-2.166.0-py2.py3-none-any.whl.metadata (6.6 kB)\n",
            "Requirement already satisfied: google-auth==2.38.0 in /usr/local/lib/python3.11/dist-packages (from -r requirements.txt (line 26)) (2.38.0)\n",
            "Requirement already satisfied: google-auth-httplib2==0.2.0 in /usr/local/lib/python3.11/dist-packages (from -r requirements.txt (line 27)) (0.2.0)\n",
            "Requirement already satisfied: google-cloud-core==2.4.3 in /usr/local/lib/python3.11/dist-packages (from -r requirements.txt (line 28)) (2.4.3)\n",
            "Requirement already satisfied: google-cloud-firestore==2.20.1 in /usr/local/lib/python3.11/dist-packages (from -r requirements.txt (line 29)) (2.20.1)\n",
            "Collecting google-cloud-storage==3.1.0 (from -r requirements.txt (line 30))\n",
            "  Using cached google_cloud_storage-3.1.0-py2.py3-none-any.whl.metadata (12 kB)\n",
            "Requirement already satisfied: google-crc32c==1.7.1 in /usr/local/lib/python3.11/dist-packages (from -r requirements.txt (line 31)) (1.7.1)\n",
            "Requirement already satisfied: google-resumable-media==2.7.2 in /usr/local/lib/python3.11/dist-packages (from -r requirements.txt (line 32)) (2.7.2)\n",
            "Requirement already satisfied: googleapis-common-protos==1.69.2 in /usr/local/lib/python3.11/dist-packages (from -r requirements.txt (line 33)) (1.69.2)\n",
            "Requirement already satisfied: grpcio==1.71.0 in /usr/local/lib/python3.11/dist-packages (from -r requirements.txt (line 34)) (1.71.0)\n",
            "Requirement already satisfied: grpcio-status==1.71.0 in /usr/local/lib/python3.11/dist-packages (from -r requirements.txt (line 35)) (1.71.0)\n",
            "Requirement already satisfied: httplib2==0.22.0 in /usr/local/lib/python3.11/dist-packages (from -r requirements.txt (line 36)) (0.22.0)\n",
            "Requirement already satisfied: idna==3.10 in /usr/local/lib/python3.11/dist-packages (from -r requirements.txt (line 37)) (3.10)\n",
            "Collecting ipykernel==6.29.4 (from -r requirements.txt (line 38))\n",
            "  Using cached ipykernel-6.29.4-py3-none-any.whl.metadata (6.3 kB)\n",
            "Collecting ipython==8.24.0 (from -r requirements.txt (line 39))\n",
            "  Using cached ipython-8.24.0-py3-none-any.whl.metadata (4.9 kB)\n",
            "Requirement already satisfied: itsdangerous==2.2.0 in /usr/local/lib/python3.11/dist-packages (from -r requirements.txt (line 40)) (2.2.0)\n",
            "Collecting jedi==0.19.1 (from -r requirements.txt (line 41))\n",
            "  Using cached jedi-0.19.1-py2.py3-none-any.whl.metadata (22 kB)\n",
            "Collecting Jinja2==3.1.4 (from -r requirements.txt (line 42))\n",
            "  Using cached jinja2-3.1.4-py3-none-any.whl.metadata (2.6 kB)\n",
            "Requirement already satisfied: joblib==1.4.2 in /usr/local/lib/python3.11/dist-packages (from -r requirements.txt (line 43)) (1.4.2)\n",
            "Collecting jupyter_client==8.6.2 (from -r requirements.txt (line 44))\n",
            "  Using cached jupyter_client-8.6.2-py3-none-any.whl.metadata (8.3 kB)\n",
            "Requirement already satisfied: jupyter_core==5.7.2 in /usr/local/lib/python3.11/dist-packages (from -r requirements.txt (line 45)) (5.7.2)\n",
            "Collecting kiwisolver==1.4.5 (from -r requirements.txt (line 46))\n",
            "  Using cached kiwisolver-1.4.5-cp311-cp311-manylinux_2_17_x86_64.manylinux2014_x86_64.whl.metadata (6.4 kB)\n",
            "Collecting MarkupSafe==2.1.5 (from -r requirements.txt (line 47))\n",
            "  Using cached MarkupSafe-2.1.5-cp311-cp311-manylinux_2_17_x86_64.manylinux2014_x86_64.whl.metadata (3.0 kB)\n",
            "Collecting matplotlib==3.9.0 (from -r requirements.txt (line 48))\n",
            "  Using cached matplotlib-3.9.0-cp311-cp311-manylinux_2_17_x86_64.manylinux2014_x86_64.whl.metadata (11 kB)\n",
            "Requirement already satisfied: matplotlib-inline==0.1.7 in /usr/local/lib/python3.11/dist-packages (from -r requirements.txt (line 49)) (0.1.7)\n",
            "Requirement already satisfied: msgpack==1.1.0 in /usr/local/lib/python3.11/dist-packages (from -r requirements.txt (line 50)) (1.1.0)\n",
            "Requirement already satisfied: nest-asyncio==1.6.0 in /usr/local/lib/python3.11/dist-packages (from -r requirements.txt (line 51)) (1.6.0)\n",
            "Collecting numpy==1.26.4 (from -r requirements.txt (line 52))\n",
            "  Using cached numpy-1.26.4-cp311-cp311-manylinux_2_17_x86_64.manylinux2014_x86_64.whl.metadata (61 kB)\n",
            "Collecting packaging==24.0 (from -r requirements.txt (line 53))\n",
            "  Using cached packaging-24.0-py3-none-any.whl.metadata (3.2 kB)\n",
            "Requirement already satisfied: pandas==2.2.2 in /usr/local/lib/python3.11/dist-packages (from -r requirements.txt (line 54)) (2.2.2)\n",
            "Requirement already satisfied: parso==0.8.4 in /usr/local/lib/python3.11/dist-packages (from -r requirements.txt (line 55)) (0.8.4)\n",
            "Collecting pdf2image==1.17.0 (from -r requirements.txt (line 56))\n",
            "  Using cached pdf2image-1.17.0-py3-none-any.whl.metadata (6.2 kB)\n",
            "Collecting pillow==10.3.0 (from -r requirements.txt (line 57))\n",
            "  Using cached pillow-10.3.0-cp311-cp311-manylinux_2_28_x86_64.whl.metadata (9.2 kB)\n",
            "Collecting pipenv==2024.4.0 (from -r requirements.txt (line 58))\n",
            "  Using cached pipenv-2024.4.0-py3-none-any.whl.metadata (19 kB)\n",
            "Collecting platformdirs==4.2.2 (from -r requirements.txt (line 59))\n",
            "  Using cached platformdirs-4.2.2-py3-none-any.whl.metadata (11 kB)\n",
            "Collecting prompt_toolkit==3.0.45 (from -r requirements.txt (line 60))\n",
            "  Using cached prompt_toolkit-3.0.45-py3-none-any.whl.metadata (6.4 kB)\n",
            "Requirement already satisfied: proto-plus==1.26.1 in /usr/local/lib/python3.11/dist-packages (from -r requirements.txt (line 61)) (1.26.1)\n",
            "Requirement already satisfied: protobuf==5.29.4 in /usr/local/lib/python3.11/dist-packages (from -r requirements.txt (line 62)) (5.29.4)\n",
            "Collecting psutil==5.9.8 (from -r requirements.txt (line 63))\n",
            "  Using cached psutil-5.9.8-cp36-abi3-manylinux_2_12_x86_64.manylinux2010_x86_64.manylinux_2_17_x86_64.manylinux2014_x86_64.whl.metadata (21 kB)\n",
            "Collecting pure-eval==0.2.2 (from -r requirements.txt (line 64))\n",
            "  Using cached pure_eval-0.2.2-py3-none-any.whl.metadata (6.2 kB)\n",
            "Requirement already satisfied: pyasn1==0.6.1 in /usr/local/lib/python3.11/dist-packages (from -r requirements.txt (line 65)) (0.6.1)\n",
            "Requirement already satisfied: pyasn1_modules==0.4.2 in /usr/local/lib/python3.11/dist-packages (from -r requirements.txt (line 66)) (0.4.2)\n",
            "Requirement already satisfied: pycparser==2.22 in /usr/local/lib/python3.11/dist-packages (from -r requirements.txt (line 67)) (2.22)\n",
            "Requirement already satisfied: Pygments==2.18.0 in /usr/local/lib/python3.11/dist-packages (from -r requirements.txt (line 68)) (2.18.0)\n",
            "Requirement already satisfied: PyJWT==2.10.1 in /usr/local/lib/python3.11/dist-packages (from -r requirements.txt (line 69)) (2.10.1)\n",
            "Collecting pyparsing==3.1.2 (from -r requirements.txt (line 70))\n",
            "  Using cached pyparsing-3.1.2-py3-none-any.whl.metadata (5.1 kB)\n",
            "Collecting pytesseract==0.3.13 (from -r requirements.txt (line 71))\n",
            "  Using cached pytesseract-0.3.13-py3-none-any.whl.metadata (11 kB)\n",
            "Collecting python-dateutil==2.9.0.post0 (from -r requirements.txt (line 72))\n",
            "  Using cached python_dateutil-2.9.0.post0-py2.py3-none-any.whl.metadata (8.4 kB)\n",
            "Collecting pytz==2024.1 (from -r requirements.txt (line 73))\n",
            "  Using cached pytz-2024.1-py2.py3-none-any.whl.metadata (22 kB)\n",
            "\u001b[31mERROR: Ignored the following versions that require a different python version: 1.21.2 Requires-Python >=3.7,<3.11; 1.21.3 Requires-Python >=3.7,<3.11; 1.21.4 Requires-Python >=3.7,<3.11; 1.21.5 Requires-Python >=3.7,<3.11; 1.21.6 Requires-Python >=3.7,<3.11\u001b[0m\u001b[31m\n",
            "\u001b[0m\u001b[31mERROR: Could not find a version that satisfies the requirement pywin32==306 (from versions: none)\u001b[0m\u001b[31m\n",
            "\u001b[0m\u001b[31mERROR: No matching distribution found for pywin32==306\u001b[0m\u001b[31m\n",
            "\u001b[0mCollecting langid\n",
            "  Downloading langid-1.1.6.tar.gz (1.9 MB)\n",
            "\u001b[2K     \u001b[90m━━━━━━━━━━━━━━━━━━━━━━━━━━━━━━━━━━━━━━━━\u001b[0m \u001b[32m1.9/1.9 MB\u001b[0m \u001b[31m22.1 MB/s\u001b[0m eta \u001b[36m0:00:00\u001b[0m\n",
            "\u001b[?25h  Preparing metadata (setup.py) ... \u001b[?25l\u001b[?25hdone\n",
            "Requirement already satisfied: numpy in /usr/local/lib/python3.11/dist-packages (from langid) (2.0.2)\n",
            "Building wheels for collected packages: langid\n",
            "  Building wheel for langid (setup.py) ... \u001b[?25l\u001b[?25hdone\n",
            "  Created wheel for langid: filename=langid-1.1.6-py3-none-any.whl size=1941171 sha256=5222ac98139df0bf425a7d7905546c49b6ccf58b1d595e4bb89454451e6cdab0\n",
            "  Stored in directory: /root/.cache/pip/wheels/32/6a/b6/b7eb43a6ad55b139c15c5daa29f3707659cfa6944d3c696f5b\n",
            "Successfully built langid\n",
            "Installing collected packages: langid\n",
            "Successfully installed langid-1.1.6\n"
          ]
        }
      ],
      "source": [
        " !pip install -r requirements.txt\n",
        " !pip install langid"
      ]
    },
    {
      "cell_type": "code",
      "execution_count": 41,
      "metadata": {
        "colab": {
          "base_uri": "https://localhost:8080/"
        },
        "id": "Mb06iS-9l99j",
        "outputId": "731ba210-477e-48b3-b438-40a16ba43a4a"
      },
      "outputs": [
        {
          "output_type": "stream",
          "name": "stdout",
          "text": [
            "Everything is ready you can start working 🎉🎉🎉🎉\n"
          ]
        }
      ],
      "source": [
        "import subprocess\n",
        "\n",
        "# Get output of ls command\n",
        "output = subprocess.check_output(\"ls\", shell=True).decode().splitlines()\n",
        "\n",
        "# Now you can conditionally check\n",
        "if \"firebase-adminsdk.json\" in output:\n",
        "    print(\"Everything is ready you can start working 🎉🎉🎉🎉\")\n",
        "else:\n",
        "    print(\"firebase-adminsdk.json not found.😒😒😒 please ask Yonani for the file\")"
      ]
    },
    {
      "cell_type": "code",
      "execution_count": 43,
      "metadata": {
        "id": "X6o8Mma6mGxT"
      },
      "outputs": [],
      "source": [
        "from src.scrapify import scrape\n",
        "\n",
        "from src.scrapify import get_report"
      ]
    },
    {
      "cell_type": "code",
      "execution_count": null,
      "metadata": {
        "colab": {
          "base_uri": "https://localhost:8080/"
        },
        "id": "_VLL-FMimKTP",
        "outputId": "0a50e039-5ed2-4f87-9830-fb81ed00c6e2"
      },
      "outputs": [
        {
          "output_type": "stream",
          "name": "stdout",
          "text": [
            "Processing: https://laws.moj.gov.et/sites/default/files/registry/cae0761a-ef52-48c9-b992-8364128730ec.pdf\n"
          ]
        },
        {
          "output_type": "stream",
          "name": "stderr",
          "text": [
            "/usr/local/lib/python3.11/dist-packages/google/cloud/firestore_v1/base_collection.py:303: UserWarning: Detected filter using positional arguments. Prefer using the 'filter' keyword argument instead.\n",
            "  return query.where(field_path, op_string, value)\n"
          ]
        },
        {
          "output_type": "stream",
          "name": "stdout",
          "text": [
            "Saved 1 records to data/extracted_data.jsonl\n",
            "✅ Successfully registered: https://laws.moj.gov.et/sites/default/files/registry/cae0761a-ef52-48c9-b992-8364128730ec.pdf\n"
          ]
        }
      ],
      "source": [
        "scrape([\"https://laws.moj.gov.et/sites/default/files/registry/cae0761a-ef52-48c9-b992-8364128730ec.pdf\"])"
      ]
    },
    {
      "cell_type": "code",
      "execution_count": 38,
      "metadata": {
        "id": "oaUyoeqXm6hX"
      },
      "outputs": [],
      "source": [
        "import sys\n",
        "sys.path.append('/content/Scrapify/src')"
      ]
    },
    {
      "cell_type": "code",
      "source": [
        "from scrapify import scrape\n",
        "\n",
        "from scrapify import get_report"
      ],
      "metadata": {
        "id": "S2FG4Do4UihW"
      },
      "execution_count": 44,
      "outputs": []
    },
    {
      "cell_type": "code",
      "source": [
        "get_report()"
      ],
      "metadata": {
        "id": "p04R4l1fVz9B",
        "outputId": "2a13aaeb-d241-495a-ed08-733d212e9e59",
        "colab": {
          "base_uri": "https://localhost:8080/"
        }
      },
      "execution_count": 46,
      "outputs": [
        {
          "output_type": "execute_result",
          "data": {
            "text/plain": [
              "([{'url': 'https://tigraitv.com/%e1%88%98%e1%88%9d%e1%88%85%e1%88%ab%e1%8a%95-%e1%89%b5%e1%8c%8d%e1%88%ab%e1%8b%ad-%e1%8b%98%e1%88%88%e1%8b%8e%e1%88%9d-%e1%8d%80%e1%8c%88%e1%88%9d-%e1%89%b0%e1%8d%83%e1%8b%8a%e1%88%ae%e1%88%9d/',\n",
              "   'scraper': 'unknown',\n",
              "   'timestamp': DatetimeWithNanoseconds(2025, 4, 10, 10, 42, 47, 989000, tzinfo=datetime.timezone.utc)},\n",
              "  {'url': 'https://laws.moj.gov.et/sites/default/files/registry/cae0761a-ef52-48c9-b992-8364128730ec.pdf',\n",
              "   'scraper': 'unknown',\n",
              "   'timestamp': DatetimeWithNanoseconds(2025, 4, 10, 10, 49, 29, 349000, tzinfo=datetime.timezone.utc)}],\n",
              " [{'url': 'https://storybookscanada.ca/stories/ti/0009/',\n",
              "   'timestamp': DatetimeWithNanoseconds(2025, 4, 10, 10, 43, 56, 95000, tzinfo=datetime.timezone.utc)}])"
            ]
          },
          "metadata": {},
          "execution_count": 46
        }
      ]
    },
    {
      "cell_type": "code",
      "source": [
        "!pip install googlesearch-python"
      ],
      "metadata": {
        "id": "xn35piLXV9CZ",
        "colab": {
          "base_uri": "https://localhost:8080/"
        },
        "outputId": "665ad445-2f70-48e2-e6c4-35181cc660f5"
      },
      "execution_count": 47,
      "outputs": [
        {
          "output_type": "stream",
          "name": "stdout",
          "text": [
            "Collecting googlesearch-python\n",
            "  Downloading googlesearch_python-1.3.0-py3-none-any.whl.metadata (3.4 kB)\n",
            "Requirement already satisfied: beautifulsoup4>=4.9 in /usr/local/lib/python3.11/dist-packages (from googlesearch-python) (4.13.3)\n",
            "Requirement already satisfied: requests>=2.20 in /usr/local/lib/python3.11/dist-packages (from googlesearch-python) (2.32.3)\n",
            "Requirement already satisfied: soupsieve>1.2 in /usr/local/lib/python3.11/dist-packages (from beautifulsoup4>=4.9->googlesearch-python) (2.6)\n",
            "Requirement already satisfied: typing-extensions>=4.0.0 in /usr/local/lib/python3.11/dist-packages (from beautifulsoup4>=4.9->googlesearch-python) (4.13.1)\n",
            "Requirement already satisfied: charset-normalizer<4,>=2 in /usr/local/lib/python3.11/dist-packages (from requests>=2.20->googlesearch-python) (3.4.1)\n",
            "Requirement already satisfied: idna<4,>=2.5 in /usr/local/lib/python3.11/dist-packages (from requests>=2.20->googlesearch-python) (3.10)\n",
            "Requirement already satisfied: urllib3<3,>=1.21.1 in /usr/local/lib/python3.11/dist-packages (from requests>=2.20->googlesearch-python) (2.3.0)\n",
            "Requirement already satisfied: certifi>=2017.4.17 in /usr/local/lib/python3.11/dist-packages (from requests>=2.20->googlesearch-python) (2025.1.31)\n",
            "Downloading googlesearch_python-1.3.0-py3-none-any.whl (5.6 kB)\n",
            "Installing collected packages: googlesearch-python\n",
            "Successfully installed googlesearch-python-1.3.0\n"
          ]
        }
      ]
    },
    {
      "cell_type": "code",
      "source": [
        "from googlesearch import search"
      ],
      "metadata": {
        "id": "B0FRmKnAdj1s"
      },
      "execution_count": 49,
      "outputs": []
    },
    {
      "cell_type": "code",
      "source": [
        "def get_links_from_simple_search(query, num_results=5):\n",
        "    return scrape(list(search(query, num_results=num_results)))"
      ],
      "metadata": {
        "id": "5MFk1o0VdjyO"
      },
      "execution_count": 50,
      "outputs": []
    },
    {
      "cell_type": "code",
      "source": [
        "simple_query = \"site:gov.et filetype:pdf 'law' OR 'legal' OR 'የፍትህ' OR 'የኢትዮጵያ ሕግ' OR 'የፌዴራል ሕጎች' OR 'አዲስ ሕግ' OR 'አዲስ ደንብ'\"\n",
        "get_links_from_simple_search(simple_query)"
      ],
      "metadata": {
        "colab": {
          "base_uri": "https://localhost:8080/"
        },
        "id": "OE6lp4Xmdjvr",
        "outputId": "e97d3544-d6fb-408f-9678-4e976bca49de"
      },
      "execution_count": 51,
      "outputs": [
        {
          "output_type": "stream",
          "name": "stdout",
          "text": [
            "Processing: https://moe.gov.et/storage/Books/Administrative%20procedure%20proclamation%20(1).pdf\n"
          ]
        },
        {
          "output_type": "stream",
          "name": "stderr",
          "text": [
            "/usr/local/lib/python3.11/dist-packages/google/cloud/firestore_v1/base_collection.py:303: UserWarning: Detected filter using positional arguments. Prefer using the 'filter' keyword argument instead.\n",
            "  return query.where(field_path, op_string, value)\n"
          ]
        },
        {
          "output_type": "stream",
          "name": "stdout",
          "text": [
            "Saved 1 records to data/extracted_data.jsonl\n",
            "✅ Successfully registered: https://moe.gov.et/storage/Books/Administrative%20procedure%20proclamation%20(1).pdf\n",
            "Processing: http://www.moa.gov.et/wp-content/uploads/2024/07/Definition-of-Powers-and-Duties-of-the-Executive-Organs-Proclamation.pdf\n",
            "Saved 1 records to data/extracted_data.jsonl\n",
            "✅ Successfully registered: http://www.moa.gov.et/wp-content/uploads/2024/07/Definition-of-Powers-and-Duties-of-the-Executive-Organs-Proclamation.pdf\n",
            "Processing: http://www.mom.gov.et/wp-content/uploads/2020/02/Proc-No.-1113-2019-Organizations-of-Civil-Societies.pdf\n",
            "Saved 1 records to data/extracted_data.jsonl\n",
            "✅ Successfully registered: http://www.mom.gov.et/wp-content/uploads/2020/02/Proc-No.-1113-2019-Organizations-of-Civil-Societies.pdf\n",
            "Processing: https://osdao.gov.et/wp-content/uploads/2024/04/Civil-Code-Amharic.pdf\n",
            "❌ Error at extraction: HTTPSConnectionPool(host='osdao.gov.et', port=443): Max retries exceeded with url: /wp-content/uploads/2024/04/Civil-Code-Amharic.pdf (Caused by NameResolutionError(\"<urllib3.connection.HTTPSConnection object at 0x7bb6c7705850>: Failed to resolve 'osdao.gov.et' ([Errno -2] Name or service not known)\"))\n",
            "✅ Successfully unscraped web registered: https://osdao.gov.et/wp-content/uploads/2024/04/Civil-Code-Amharic.pdf\n",
            "Processing: http://laws.eag.gov.et/Upload/CassationDecisionsDocument/a3bf28be-a8c3-408f-8671-a9adebb3281f.pdf\n",
            "Saved 1 records to data/extracted_data.jsonl\n",
            "✅ Successfully registered: http://laws.eag.gov.et/Upload/CassationDecisionsDocument/a3bf28be-a8c3-408f-8671-a9adebb3281f.pdf\n"
          ]
        }
      ]
    },
    {
      "cell_type": "code",
      "source": [],
      "metadata": {
        "id": "aUL37mg6fX7n"
      },
      "execution_count": null,
      "outputs": []
    },
    {
      "cell_type": "code",
      "source": [],
      "metadata": {
        "id": "HWJr2V5FfXsx"
      },
      "execution_count": null,
      "outputs": []
    },
    {
      "cell_type": "code",
      "source": [],
      "metadata": {
        "id": "uOrzpBCHfXem"
      },
      "execution_count": null,
      "outputs": []
    }
  ],
  "metadata": {
    "colab": {
      "provenance": []
    },
    "kernelspec": {
      "display_name": "Python 3",
      "name": "python3"
    },
    "language_info": {
      "name": "python"
    }
  },
  "nbformat": 4,
  "nbformat_minor": 0
}