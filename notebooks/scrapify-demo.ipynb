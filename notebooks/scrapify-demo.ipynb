{
  "cells": [
    {
      "cell_type": "markdown",
      "metadata": {
        "id": "j12YgYtdP9JK"
      },
      "source": [
        "# 🕸️ Scrapify\n",
        "\n",
        "<!-- [![Open In Colab](https://colab.research.google.com/assets/colab-badge.svg)](https://colab.research.google.com/github/YonaniCodes/Scrapify/blob/main/notebooks/scrapify-demo.ipynb) -->\n"
      ]
    },
    {
      "cell_type": "code",
      "execution_count": 1,
      "metadata": {
        "vscode": {
          "languageId": "plaintext"
        },
        "id": "WFTPeEs3P9JN",
        "outputId": "348ca515-cd73-463c-94af-328d10125c80",
        "colab": {
          "base_uri": "https://localhost:8080/"
        }
      },
      "outputs": [
        {
          "output_type": "stream",
          "name": "stdout",
          "text": [
            "/content/Scrapify\n",
            "Already up to date.\n",
            "[Errno 2] No such file or directory: '/content # Return to root'\n",
            "/content/Scrapify\n",
            "Scraping..........\n"
          ]
        }
      ],
      "source": [
        "import sys\n",
        "import os\n",
        "\n",
        "# Check if running in Colab\n",
        "try:\n",
        "    import google.colab\n",
        "    IN_COLAB = True\n",
        "except ImportError:\n",
        "    IN_COLAB = False\n",
        "\n",
        "# Define repo path\n",
        "repo_url = \"https://github.com/YonaniCodes/Scrapify.git\"\n",
        "repo_path = \"/content/Scrapify\"\n",
        "\n",
        "if IN_COLAB:\n",
        "    # Clone only if it doesn't exist\n",
        "    if not os.path.exists(repo_path):\n",
        "        !git clone {repo_url} {repo_path}\n",
        "    else:\n",
        "        # Go into the repo and pull latest changes\n",
        "        %cd {repo_path}\n",
        "        !git pull\n",
        "        %cd /content  # Return to root\n",
        "\n",
        "    # Add src/ to sys.path\n",
        "    sys.path.append(f\"{repo_path}/src\")\n",
        "else:\n",
        "    # Local path config\n",
        "    local_src_path = os.path.abspath(\"../src\")\n",
        "    sys.path.append(local_src_path)\n",
        "\n",
        "# Import your scraper\n",
        "from scrapify import scrape\n",
        "\n",
        "# Test the scrape function\n",
        "scrape()  # This should print \"Scraping..........\"\n"
      ]
    },
    {
      "cell_type": "code",
      "source": [],
      "metadata": {
        "id": "oZg2KNE8RtV_"
      },
      "execution_count": null,
      "outputs": []
    }
  ],
  "metadata": {
    "language_info": {
      "name": "python"
    },
    "colab": {
      "provenance": []
    },
    "kernelspec": {
      "name": "python3",
      "display_name": "Python 3"
    }
  },
  "nbformat": 4,
  "nbformat_minor": 0
}